{
 "cells": [
  {
   "cell_type": "markdown",
   "id": "208e979a",
   "metadata": {},
   "source": [
    "# List"
   ]
  },
  {
   "cell_type": "code",
   "execution_count": 1,
   "id": "75bcd65a",
   "metadata": {},
   "outputs": [
    {
     "name": "stdout",
     "output_type": "stream",
     "text": [
      "[]\n",
      "[1, 3, 4]\n"
     ]
    }
   ],
   "source": [
    "my_list = []\n",
    "print(my_list)\n",
    "my_list = [1, 3, 4]\n",
    "print(my_list)"
   ]
  },
  {
   "cell_type": "markdown",
   "id": "245d5b34",
   "metadata": {},
   "source": [
    "# Dictonary"
   ]
  },
  {
   "cell_type": "code",
   "execution_count": 2,
   "id": "af888f51",
   "metadata": {},
   "outputs": [
    {
     "name": "stdout",
     "output_type": "stream",
     "text": [
      "{'first': 'py', 1: 'first'}\n",
      "{'first': 'py', 1: 'dua'}\n"
     ]
    }
   ],
   "source": [
    "my_dict = {\n",
    "    \"first\" : \"py\",\n",
    "    1 : \"first\"\n",
    "}\n",
    "print(my_dict)\n",
    "\n",
    "#merubah element di dict\n",
    "my_dict[1] = \"dua\"\n",
    "print(my_dict)"
   ]
  },
  {
   "cell_type": "markdown",
   "id": "2ec4de19",
   "metadata": {},
   "source": [
    "# Tuple\n",
    "tuple ini kagak bisa dirubah element nya"
   ]
  },
  {
   "cell_type": "code",
   "execution_count": 2,
   "id": "236cead2",
   "metadata": {},
   "outputs": [
    {
     "name": "stdout",
     "output_type": "stream",
     "text": [
      "(1, 2, 4, 'ayamgoreng')\n",
      "1\n",
      "(1, 2, 4, 'ayamgoreng')\n",
      "g\n"
     ]
    }
   ],
   "source": [
    "my_tuple = (1,2,4,\"ayamgoreng\")\n",
    "print(my_tuple)\n",
    "print(my_tuple[0])\n",
    "print(my_tuple[:])\n",
    "print(my_tuple[3][4])"
   ]
  },
  {
   "cell_type": "markdown",
   "id": "93d0bfca",
   "metadata": {},
   "source": [
    "# Sets"
   ]
  },
  {
   "cell_type": "code",
   "execution_count": 3,
   "id": "51a7ce7e",
   "metadata": {},
   "outputs": [
    {
     "name": "stdout",
     "output_type": "stream",
     "text": [
      "{1, 2, 3, 4}\n",
      "{1, 2, 3, 4, 5}\n"
     ]
    }
   ],
   "source": [
    "my_set = {1,2,3,4,4,4,4,4}\n",
    "print(my_set)\n",
    "my_set.add(5)\n",
    "print(my_set)"
   ]
  },
  {
   "cell_type": "code",
   "execution_count": 5,
   "id": "f289ebf6",
   "metadata": {},
   "outputs": [
    {
     "name": "stdout",
     "output_type": "stream",
     "text": [
      "{1, 2, 3, 4, 5, 6} ---------- {1, 2, 3, 4, 5, 6}\n",
      "{3, 4} ---------- {3, 4}\n",
      "{1, 2} ---------- {1, 2}\n",
      "{1, 2, 5, 6} ---------- {1, 2, 5, 6}\n",
      "set()\n"
     ]
    }
   ],
   "source": [
    "my_set = {1, 2, 3, 4}\n",
    "my_set_2 = {3, 4, 5, 6}\n",
    "#union itu di gabung\n",
    "print(my_set.union(my_set_2), '----------', my_set | my_set_2)\n",
    "#intersection itu nilai unik di kedua set\n",
    "print(my_set.intersection(my_set_2), '----------', my_set & my_set_2)\n",
    "# ngambil elemen yang cuma ada di satu set, tapi gak ada di set lainnya\n",
    "print(my_set.difference(my_set_2), '----------', my_set - my_set_2)\n",
    "# ada di salah satu set aja, tapi bukan di keduanya.\n",
    "print(my_set.symmetric_difference(my_set_2), '----------', my_set ^ my_set_2)\n",
    "my_set.clear()\n",
    "print(my_set)"
   ]
  },
  {
   "cell_type": "markdown",
   "id": "f52457c9",
   "metadata": {},
   "source": [
    "# Conditional Statment"
   ]
  },
  {
   "cell_type": "code",
   "execution_count": null,
   "id": "fd1a5694",
   "metadata": {},
   "outputs": [
    {
     "name": "stdout",
     "output_type": "stream",
     "text": [
      "5 adalah bilangan number\n",
      "stament ini selealu dijalankan \n"
     ]
    }
   ],
   "source": [
    "num = 5 \n",
    "if num != 0:\n",
    "    print(num, \"adalah bilangan number\")\n",
    "\n",
    "print(\"stament ini selealu dijalankan \")"
   ]
  },
  {
   "cell_type": "code",
   "execution_count": 1,
   "id": "5bf443b6",
   "metadata": {},
   "outputs": [
    {
     "name": "stdout",
     "output_type": "stream",
     "text": [
      "bilangan positif atau negatif\n"
     ]
    }
   ],
   "source": [
    "num = 5\n",
    "if num >= 0:\n",
    "    print(\"bilangan positif atau negatif\")\n",
    "else:\n",
    "    print(\"bilangan negatif\")"
   ]
  },
  {
   "cell_type": "code",
   "execution_count": 2,
   "id": "a5674a8b",
   "metadata": {},
   "outputs": [
    {
     "name": "stdout",
     "output_type": "stream",
     "text": [
      "bilangan nol\n"
     ]
    }
   ],
   "source": [
    "num = 0\n",
    "if num > 0:\n",
    "    print(\"bilangan positif\")\n",
    "elif num == 0:\n",
    "    print(\"bilangan nol\")\n",
    "else:\n",
    "    print(\"bilangan negatif\")"
   ]
  },
  {
   "cell_type": "code",
   "execution_count": 3,
   "id": "37a58e0f",
   "metadata": {},
   "outputs": [
    {
     "name": "stdout",
     "output_type": "stream",
     "text": [
      "bilangan positif\n"
     ]
    }
   ],
   "source": [
    "num = 8\n",
    "if num >= 0:\n",
    "    if num == 0:\n",
    "        print(\"bialngan nol\")\n",
    "    else:\n",
    "        print(\"bilangan positif\")\n",
    "else:\n",
    "    print(\"bilangan negatif\")"
   ]
  },
  {
   "cell_type": "markdown",
   "id": "98acb334",
   "metadata": {},
   "source": [
    "# Loops"
   ]
  },
  {
   "cell_type": "code",
   "execution_count": 4,
   "id": "d7278e6c",
   "metadata": {},
   "outputs": [
    {
     "name": "stdout",
     "output_type": "stream",
     "text": [
      "[1, 3, 5, 7, 9, 11, 13, 15, 17, 19]\n"
     ]
    }
   ],
   "source": [
    "num = 1\n",
    "odd_nums = []\n",
    "while num <= 20:\n",
    "    if num % 2 != 0:\n",
    "        odd_nums.append(num)\n",
    "    num += 1\n",
    "print(odd_nums)"
   ]
  },
  {
   "cell_type": "code",
   "execution_count": 5,
   "id": "e8c10ac0",
   "metadata": {},
   "outputs": [
    {
     "name": "stdout",
     "output_type": "stream",
     "text": [
      "1\n",
      "2\n",
      "3\n",
      "4\n",
      "5\n"
     ]
    }
   ],
   "source": [
    "list = [1,2,3,4,5]\n",
    "for num in list:\n",
    "    print(num)"
   ]
  },
  {
   "cell_type": "markdown",
   "id": "7635f45f",
   "metadata": {},
   "source": [
    "# Function"
   ]
  },
  {
   "cell_type": "code",
   "execution_count": 6,
   "id": "6c1bc7bd",
   "metadata": {},
   "outputs": [
    {
     "name": "stdout",
     "output_type": "stream",
     "text": [
      "4\n"
     ]
    }
   ],
   "source": [
    "def pow(a):\n",
    "    return a * a\n",
    "\n",
    "print(pow(2))"
   ]
  },
  {
   "cell_type": "code",
   "execution_count": 7,
   "id": "196e8fb8",
   "metadata": {},
   "outputs": [
    {
     "name": "stdout",
     "output_type": "stream",
     "text": [
      "4\n"
     ]
    }
   ],
   "source": [
    "def pow(a):\n",
    "    print(a * a)\n",
    "\n",
    "pow(2)"
   ]
  }
 ],
 "metadata": {
  "kernelspec": {
   "display_name": "base",
   "language": "python",
   "name": "python3"
  },
  "language_info": {
   "codemirror_mode": {
    "name": "ipython",
    "version": 3
   },
   "file_extension": ".py",
   "mimetype": "text/x-python",
   "name": "python",
   "nbconvert_exporter": "python",
   "pygments_lexer": "ipython3",
   "version": "3.12.4"
  }
 },
 "nbformat": 4,
 "nbformat_minor": 5
}
