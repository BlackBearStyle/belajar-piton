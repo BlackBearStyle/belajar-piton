{
 "cells": [
  {
   "cell_type": "markdown",
   "id": "208e979a",
   "metadata": {},
   "source": [
    "# List"
   ]
  },
  {
   "cell_type": "code",
   "execution_count": 1,
   "id": "75bcd65a",
   "metadata": {},
   "outputs": [
    {
     "name": "stdout",
     "output_type": "stream",
     "text": [
      "[]\n",
      "[1, 3, 4]\n"
     ]
    }
   ],
   "source": [
    "my_list = []\n",
    "print(my_list)\n",
    "my_list = [1, 3, 4]\n",
    "print(my_list)"
   ]
  },
  {
   "cell_type": "markdown",
   "id": "245d5b34",
   "metadata": {},
   "source": [
    "# Dictonary"
   ]
  },
  {
   "cell_type": "code",
   "execution_count": 2,
   "id": "af888f51",
   "metadata": {},
   "outputs": [
    {
     "name": "stdout",
     "output_type": "stream",
     "text": [
      "{'first': 'py', 1: 'first'}\n",
      "{'first': 'py', 1: 'dua'}\n"
     ]
    }
   ],
   "source": [
    "my_dict = {\n",
    "    \"first\" : \"py\",\n",
    "    1 : \"first\"\n",
    "}\n",
    "print(my_dict)\n",
    "\n",
    "#merubah element di dict\n",
    "my_dict[1] = \"dua\"\n",
    "print(my_dict)"
   ]
  },
  {
   "cell_type": "markdown",
   "id": "2ec4de19",
   "metadata": {},
   "source": [
    "# Tuple\n",
    "tuple ini kagak bisa dirubah element nya"
   ]
  },
  {
   "cell_type": "code",
   "execution_count": 2,
   "id": "236cead2",
   "metadata": {},
   "outputs": [
    {
     "name": "stdout",
     "output_type": "stream",
     "text": [
      "(1, 2, 4, 'ayamgoreng')\n",
      "1\n",
      "(1, 2, 4, 'ayamgoreng')\n",
      "g\n"
     ]
    }
   ],
   "source": [
    "my_tuple = (1,2,4,\"ayamgoreng\")\n",
    "print(my_tuple)\n",
    "print(my_tuple[0])\n",
    "print(my_tuple[:])\n",
    "print(my_tuple[3][4])"
   ]
  },
  {
   "cell_type": "code",
   "execution_count": null,
   "id": "51a7ce7e",
   "metadata": {},
   "outputs": [],
   "source": []
  }
 ],
 "metadata": {
  "kernelspec": {
   "display_name": "base",
   "language": "python",
   "name": "python3"
  },
  "language_info": {
   "codemirror_mode": {
    "name": "ipython",
    "version": 3
   },
   "file_extension": ".py",
   "mimetype": "text/x-python",
   "name": "python",
   "nbconvert_exporter": "python",
   "pygments_lexer": "ipython3",
   "version": "3.12.4"
  }
 },
 "nbformat": 4,
 "nbformat_minor": 5
}
