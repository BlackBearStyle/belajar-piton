{
 "cells": [
  {
   "cell_type": "code",
   "execution_count": 1,
   "id": "89ed17ad",
   "metadata": {},
   "outputs": [
    {
     "data": {
      "text/plain": [
       "'myskill'"
      ]
     },
     "execution_count": 1,
     "metadata": {},
     "output_type": "execute_result"
    }
   ],
   "source": [
    "\"myskill\" or 'myskill'"
   ]
  },
  {
   "cell_type": "code",
   "execution_count": 2,
   "id": "e9bc7c9a",
   "metadata": {},
   "outputs": [
    {
     "name": "stdout",
     "output_type": "stream",
     "text": [
      "r\n",
      "a\n",
      "20\n"
     ]
    }
   ],
   "source": [
    "# bisa akses string pake index kek list\n",
    "print(\"myskill providing course\"[9])\n",
    "print(\"aditya pramana putra\"[-20])\n",
    "string2 = \"aditya pramana putra\"\n",
    "print(len(string2))"
   ]
  },
  {
   "cell_type": "code",
   "execution_count": 1,
   "id": "25ea54a2",
   "metadata": {},
   "outputs": [
    {
     "name": "stdout",
     "output_type": "stream",
     "text": [
      "String with the use of Single Quotes: \n",
      "Welcome to MySkill\n",
      "\n",
      "String with the use of Double Quotes: \n",
      "I'm Jon\n",
      "\n",
      "String with the use of Triple Quotes: \n",
      "I'm MySkill Student And I develop \"Skill\"\n",
      "i'm to talk about, how much salary in job \"Data Analiyst\"\n",
      "\n",
      "Creating a multiline String: \n",
      "\n",
      "              MySkill\n",
      "              For\n",
      "              Life\n",
      "\n",
      "              Aditya\n",
      "              Pramana\n",
      "              Putrs\n"
     ]
    }
   ],
   "source": [
    "# Creating a String\n",
    "# with single Quotes\n",
    "String1 = 'Welcome to MySkill'\n",
    "print(\"String with the use of Single Quotes: \")\n",
    "print(String1)\n",
    "\n",
    "# Creating a String\n",
    "# with double Quotes\n",
    "String1 = \"I'm Jon\"\n",
    "print(\"\\nString with the use of Double Quotes: \")\n",
    "print(String1)\n",
    "\n",
    "# Creating a String\n",
    "# with triple Quotes\n",
    "String1 = '''I'm MySkill Student And I develop \"Skill\"'''\n",
    "print(\"\\nString with the use of Triple Quotes: \")\n",
    "print(String1)\n",
    "\n",
    "string2 = '''i'm to talk about, how much salary in job \"Data Analiyst\"'''\n",
    "print (string2)\n",
    "\n",
    "# Creating String with triple\n",
    "# Quotes allows multiple lines\n",
    "String1 = '''\n",
    "              MySkill\n",
    "              For\n",
    "              Life'''\n",
    "print(\"\\nCreating a multiline String: \")\n",
    "print(String1)\n",
    "\n",
    "string2 = '''\n",
    "              Aditya\n",
    "              Pramana\n",
    "              Putrs'''\n",
    "print(string2)"
   ]
  },
  {
   "cell_type": "markdown",
   "id": "0135c6ef",
   "metadata": {},
   "source": [
    "# Access Character in Python String"
   ]
  },
  {
   "cell_type": "code",
   "execution_count": null,
   "id": "5eb00390",
   "metadata": {},
   "outputs": [
    {
     "name": "stdout",
     "output_type": "stream",
     "text": [
      "Initial String: \n",
      "MySkill\n",
      "\n",
      "First character of String is: \n",
      "M\n",
      "\n",
      "Last character of String is: \n",
      "l\n"
     ]
    }
   ],
   "source": [
    "# akses nya mirip kek list, pake index\n",
    "String1 = \"MySkill\"\n",
    "print(\"Initial String: \")\n",
    "print(String1)\n",
    "\n",
    "# Printing First character\n",
    "print(\"\\nFirst character of String is: \")\n",
    "print(String1[0])\n",
    "\n",
    "# Printing Last character\n",
    "print(\"\\nLast character of String is: \")\n",
    "print(String1[-1])"
   ]
  },
  {
   "cell_type": "markdown",
   "id": "9528f8a4",
   "metadata": {},
   "source": [
    "## Reverse String\n",
    "Dengan Mengakses Karakter dari sebuah string, kita juga dapat membalikkannya. Kita dapat Membalikkan string dengan menulis [::-1] dan string akan dibalik."
   ]
  },
  {
   "cell_type": "code",
   "execution_count": 4,
   "id": "7db149d9",
   "metadata": {},
   "outputs": [
    {
     "name": "stdout",
     "output_type": "stream",
     "text": [
      "lliksym\n",
      "aditya\n"
     ]
    }
   ],
   "source": [
    "#Program to reverse a string\n",
    "msk = \"myskill\"\n",
    "print(msk[::-1])\n",
    "\n",
    "balik_nama = \"aytida\"\n",
    "print(balik_nama[::-1])\n"
   ]
  },
  {
   "cell_type": "code",
   "execution_count": 5,
   "id": "31a75b3b",
   "metadata": {},
   "outputs": [
    {
     "name": "stdout",
     "output_type": "stream",
     "text": [
      "lliksym\n",
      "aditya\n"
     ]
    }
   ],
   "source": [
    "msk = \"myskill\"\n",
    "\n",
    "# Reverse the string using reversed and join function\n",
    "msk = \"\".join(reversed(msk))\n",
    "\n",
    "print(msk)\n",
    "\n",
    "balik_nama = \"aytida\"\n",
    "balik_nama = \"\".join(reversed(balik_nama))\n",
    "print(balik_nama)\n"
   ]
  },
  {
   "cell_type": "markdown",
   "id": "3eb25664",
   "metadata": {},
   "source": [
    "## String Slicing\n",
    "\n",
    "Untuk mengakses berbagai karakter dalam String, metode slicing digunakan. Mengiris dalam sebuah String dilakukan dengan menggunakan operator Slicing (titik dua)."
   ]
  },
  {
   "cell_type": "code",
   "execution_count": 6,
   "id": "df748772",
   "metadata": {},
   "outputs": [
    {
     "name": "stdout",
     "output_type": "stream",
     "text": [
      "Initial String: \n",
      "ADITYA PRAMANA PUTRA\n",
      "\n",
      "Slicing characters from 3-12: \n",
      "TYA P\n",
      "\n",
      "Slicing characters between 3rd and 2nd last character: \n",
      "TYA PRAMANA PUTR\n",
      "A\n",
      "ADITYA PRAMANA PUTRA\n"
     ]
    }
   ],
   "source": [
    "# Creating a String\n",
    "String1 = \"ADITYA PRAMANA PUTRA\"\n",
    "print(\"Initial String: \")\n",
    "print(String1)\n",
    "\n",
    "# Printing 3rd to 12th character\n",
    "print(\"\\nSlicing characters from 3-12: \")\n",
    "print(String1[3:8])\n",
    "\n",
    "# Printing characters between\n",
    "# 3rd and 2nd last character\n",
    "print(\"\\nSlicing characters between \" +\n",
    "\t\"3rd and 2nd last character: \")\n",
    "print(String1[3:-1])\n",
    "\n",
    "print(String1[-1])\n",
    "print(String1[:])\n"
   ]
  },
  {
   "cell_type": "markdown",
   "id": "396a58f2",
   "metadata": {},
   "source": [
    "## Delete and Update String\n"
   ]
  },
  {
   "cell_type": "markdown",
   "id": "3b49bda4",
   "metadata": {},
   "source": [
    "## Update Character"
   ]
  },
  {
   "cell_type": "code",
   "execution_count": 9,
   "id": "ab2cb559",
   "metadata": {},
   "outputs": [
    {
     "name": "stdout",
     "output_type": "stream",
     "text": [
      "Initial String: \n",
      "ADITIA PRAMANA PUTRA\n",
      "\n",
      "Updating character at 2nd Index: \n",
      "ADITYA PRAMANA PUTRA\n",
      "ADITYA PRAMANA PUTRA\n"
     ]
    }
   ],
   "source": [
    "# Python Program to Update\n",
    "# character of a String\n",
    "\n",
    "String1 = \"ADITIA PRAMANA PUTRA\"\n",
    "print(\"Initial String: \")\n",
    "print(String1)\n",
    "\n",
    "# Updating a character of the String\n",
    "## As python strings are immutable, they don't support item updation directly\n",
    "### there are following two ways\n",
    "#1\n",
    "list1 = list(String1)\n",
    "list1[4] = 'Y'\n",
    "String2 = ''.join(list1)\n",
    "print(\"\\nUpdating character at 2nd Index: \")\n",
    "print(String2)\n",
    "\n",
    "#2\n",
    "String3 = String1[0:4] + 'Y' + String1[5:]\n",
    "print(String3)\n"
   ]
  },
  {
   "cell_type": "markdown",
   "id": "e0a5c896",
   "metadata": {},
   "source": [
    "## Update Entire String"
   ]
  },
  {
   "cell_type": "code",
   "execution_count": 10,
   "id": "ce548459",
   "metadata": {},
   "outputs": [
    {
     "name": "stdout",
     "output_type": "stream",
     "text": [
      "Initial String: \n",
      "Hello, I'm Faras\n",
      "\n",
      "Updated String: \n",
      "Welcome to MySkill\n"
     ]
    }
   ],
   "source": [
    "String1 = \"Hello, I'm Faras\"\n",
    "print(\"Initial String: \")\n",
    "print(String1)\n",
    "\n",
    "# Updating a String\n",
    "String1 = \"Welcome to MySkill\"\n",
    "print(\"\\nUpdated String: \")\n",
    "print(String1)\n"
   ]
  },
  {
   "cell_type": "markdown",
   "id": "1bfa113d",
   "metadata": {},
   "source": [
    "## Delete Character"
   ]
  },
  {
   "cell_type": "code",
   "execution_count": 11,
   "id": "7eb16b90",
   "metadata": {},
   "outputs": [
    {
     "name": "stdout",
     "output_type": "stream",
     "text": [
      "Initial String: \n",
      "ADITYYA PRAMANA PUTRA\n",
      "\n",
      "Deleting character at 2nd Index: \n",
      "ADITYA PRAMANA PUTRA\n"
     ]
    }
   ],
   "source": [
    "String1 = \"ADITYYA PRAMANA PUTRA\"\n",
    "print(\"Initial String: \")\n",
    "print(String1)\n",
    "\n",
    "# Deleting a character\n",
    "# of the String\n",
    "String2 = String1[0:5] + String1[6:]\n",
    "print(\"\\nDeleting character at 2nd Index: \")\n",
    "print(String2)"
   ]
  },
  {
   "cell_type": "markdown",
   "id": "4aef79e8",
   "metadata": {},
   "source": [
    "## Deleting Entire String"
   ]
  },
  {
   "cell_type": "code",
   "execution_count": 14,
   "id": "9deddbcc",
   "metadata": {},
   "outputs": [
    {
     "name": "stdout",
     "output_type": "stream",
     "text": [
      "Initial String: \n",
      "Welcome to MySkill\n",
      "\n",
      "Deleting entire String: \n"
     ]
    },
    {
     "ename": "NameError",
     "evalue": "name 'String1' is not defined",
     "output_type": "error",
     "traceback": [
      "\u001b[0;31m---------------------------------------------------------------------------\u001b[0m",
      "\u001b[0;31mNameError\u001b[0m                                 Traceback (most recent call last)",
      "Cell \u001b[0;32mIn[14], line 12\u001b[0m\n\u001b[1;32m     10\u001b[0m \u001b[38;5;28;01mdel\u001b[39;00m String1\n\u001b[1;32m     11\u001b[0m \u001b[38;5;28mprint\u001b[39m(\u001b[38;5;124m\"\u001b[39m\u001b[38;5;130;01m\\n\u001b[39;00m\u001b[38;5;124mDeleting entire String: \u001b[39m\u001b[38;5;124m\"\u001b[39m)\n\u001b[0;32m---> 12\u001b[0m \u001b[38;5;28mprint\u001b[39m(String1)\n",
      "\u001b[0;31mNameError\u001b[0m: name 'String1' is not defined"
     ]
    }
   ],
   "source": [
    "String1 = \"Welcome to MySkill\"\n",
    "print(\"Initial String: \")\n",
    "print(String1)\n",
    "\n",
    "\n",
    "# Deleting a String\n",
    "# with the use of del\n",
    "\n",
    "\n",
    "del String1\n",
    "print(\"\\nDeleting entire String: \")\n",
    "print(String1)\n"
   ]
  },
  {
   "cell_type": "markdown",
   "id": "b942fe66",
   "metadata": {},
   "source": [
    "# Escape Sequence in Python\n",
    "\n",
    "| Escape | Arti                                    | Contoh                  | Output                       |\n",
    "| ------ | --------------------------------------- | ----------------------- | ---------------------------- |\n",
    "| `\\n`   | Baris baru (newline)                    | `\"Halo\\nDunia\"`         | Halo <br> Dunia              |\n",
    "| `\\t`   | Tab horizontal                          | `\"Halo\\tDunia\"`         | Halo  Dunia                  |\n",
    "| `\\\\`   | Tanda backslash                         | `\"Folder\\\\file.txt\"`    | Folder\\file.txt              |\n",
    "| `\\'`   | Tanda kutip tunggal                     | `'It\\'s fine'`          | It's fine                    |\n",
    "| `\\\"`   | Tanda kutip ganda                       | `\"Dia bilang \\\"halo\\\"\"` | Dia bilang \"halo\"            |\n",
    "| `\\r`   | Carriage return (kembali ke awal baris) | `\"abc\\rX\"`              | Xbc (efek sistem tergantung) |\n",
    "| `\\b`   | Backspace (hapus satu karakter)         | `\"abc\\b\"`               | ab                           |\n",
    "| `\\f`   | Form feed (jarang dipakai)              | `\"Line1\\fLine2\"`        | tergantung printer           |\n",
    "| `\\a`   | Bell/alert (bunyi beep)                 | `\"\\a\"`                  | bunyi (kalau aktif)          |\n",
    "| `\\v`   | Tab vertikal (jarang dipakai)           | `\"Line1\\vLine2\"`        | tergantung sistem            |\n",
    "| `\\ooo` | Karakter oktal                          | `\"\\101\"`                | A                            |\n",
    "| `\\xhh` | Karakter heksadesimal                   | `\"\\x41\"`                | A                            |\n"
   ]
  },
  {
   "cell_type": "code",
   "execution_count": 15,
   "id": "dfd03273",
   "metadata": {},
   "outputs": [
    {
     "name": "stdout",
     "output_type": "stream",
     "text": [
      "Initial String with use of Triple Quotes: \n",
      "I'm \"Smart\"\n",
      "\n",
      "Escaping Single Quote: \n",
      "I'm very \"tired\" with you\n",
      "\n",
      "Escaping Double Quotes: \n",
      "I'm very \"Tired\" with you\n",
      "\n",
      "Escaping Backslashes: \n",
      "C: Https:\\\\Aditya\\Channel\\.com\n",
      "\n",
      "Tab: \n",
      "Note:\t Jika ada sesuatu..\n",
      "\n",
      "New Line: \n",
      "Nama\n",
      "NIM\n"
     ]
    },
    {
     "name": "stderr",
     "output_type": "stream",
     "text": [
      "<>:18: SyntaxWarning: invalid escape sequence '\\A'\n",
      "<>:18: SyntaxWarning: invalid escape sequence '\\A'\n",
      "/tmp/ipykernel_31545/495496325.py:18: SyntaxWarning: invalid escape sequence '\\A'\n",
      "  String1 = \"C: Https:\\\\\\Aditya\\\\Channel\\\\.com\"\n"
     ]
    }
   ],
   "source": [
    "# Initial String\n",
    "String1 = '''I'm \"Smart\"'''\n",
    "print(\"Initial String with use of Triple Quotes: \")\n",
    "print(String1)\n",
    "\n",
    "# Escaping Single Quote\n",
    "String1 = 'I\\'m very \"tired\" with you'\n",
    "print(\"\\nEscaping Single Quote: \")\n",
    "print(String1)\n",
    "\n",
    "# Escaping Double Quotes\n",
    "String1 = \"I'm very \\\"Tired\\\" with you\"\n",
    "print(\"\\nEscaping Double Quotes: \")       #note : kasih tanda \\ dlu baru tanda yang ingin kita tetapkan\n",
    "print(String1)\n",
    "\n",
    "# Printing Paths with the\n",
    "# use of Escape Sequences\n",
    "String1 = \"C: Https:\\\\\\Aditya\\\\Channel\\\\.com\"\n",
    "print(\"\\nEscaping Backslashes: \")\n",
    "print(String1)\n",
    "\n",
    "# Printing Paths with the\n",
    "# use of Tab\n",
    "String1 = \"Note:\\t Jika ada sesuatu..\"\n",
    "print(\"\\nTab: \")\n",
    "print(String1)\n",
    "\n",
    "# Printing Paths with the\n",
    "# use of New Line\n",
    "String1 = \"Nama\\nNIM\"\n",
    "print(\"\\nNew Line: \")\n",
    "print(String1)\n"
   ]
  },
  {
   "cell_type": "markdown",
   "id": "8773d4ec",
   "metadata": {},
   "source": [
    "# Formatting in String\n",
    "1. 🔣 Format Lama (% operator)\n",
    "\n",
    "| Format      | Arti                  | Contoh                    | Output      |\n",
    "| ----------- | --------------------- | ------------------------- | ----------- |\n",
    "| `%s`        | String                | `\"Nama: %s\" % \"Ali\"`      | Nama: Ali   |\n",
    "| `%d`        | Integer (desimal)     | `\"Umur: %d\" % 25`         | Umur: 25    |\n",
    "| `%f`        | Float                 | `\"Nilai: %.2f\" % 3.14159` | Nilai: 3.14 |\n",
    "| `%x` / `%X` | Bilangan heksadesimal | `\"%x\" % 255`              | ff          |\n",
    "| `%o`        | Bilangan oktal        | `\"%o\" % 8`                | 10          |\n",
    "\n",
    "2. 🧱 str.format() Style\n",
    "\n",
    "| Format       | Arti                          |\n",
    "| ------------ | ----------------------------- |\n",
    "| `{}`         | Auto isi dari argumen         |\n",
    "| `{0}`, `{1}` | Posisi argumen                |\n",
    "| `{nama}`     | Berdasarkan nama variabel     |\n",
    "| `{:.2f}`     | Float 2 desimal               |\n",
    "| `{:>10}`     | Rata kanan, lebar 10 karakter |\n",
    "| `{:<10}`     | Rata kiri, lebar 10 karakter  |\n",
    "| `{:^10}`     | Tengah, lebar 10 karakter     |\n",
    "\n",
    "3. ⚡ F-String (Modern, Python 3.6+)\n",
    "\n",
    "| Format        | Arti                            |\n",
    "| ------------- | ------------------------------- |\n",
    "| `{nilai:.2f}` | Float 2 desimal                 |\n",
    "| `{nilai:>10}` | Rata kanan 10 karakter          |\n",
    "| `{nilai:<10}` | Rata kiri                       |\n",
    "| `{nilai:^10}` | Rata tengah                     |\n",
    "| `{x + y}`     | Ekspresi bisa langsung dihitung |\n",
    "\n",
    "🔁 Ringkasan Cepat\n",
    "\n",
    "| Format       | Cocok Untuk   | Gaya Penulisan             |\n",
    "| ------------ | ------------- | -------------------------- |\n",
    "| `%s %d %.2f` | Gaya lama     | `\"Nama: %s\" % \"Ali\"`       |\n",
    "| `.format()`  | Gaya menengah | `\"Nama: {}\".format(\"Ali\")` |\n",
    "| `f\"{}\"`      | Gaya modern   | `f\"Nama: {nama}\"`          |\n"
   ]
  },
  {
   "cell_type": "code",
   "execution_count": 18,
   "id": "72cb1370",
   "metadata": {},
   "outputs": [
    {
     "name": "stdout",
     "output_type": "stream",
     "text": [
      "Print String in default order: \n",
      "MySkill For Learning\n",
      "Aditya Pramana Putra\n",
      "\n",
      "Print String in Positional order: \n",
      "For MySkill Learning\n",
      "Putra Pramana Aditya\n",
      "\n",
      "Print String in order of Keywords: \n",
      "Learning For MySkill\n",
      "Aditya Pramana Putra\n"
     ]
    }
   ],
   "source": [
    "# Default order\n",
    "String1 = \"{} {} {}\".format('MySkill', 'For', 'Learning')\n",
    "print(\"Print String in default order: \")\n",
    "print(String1)\n",
    "\n",
    "nama_gw = \"{} {} {}\".format('Aditya','Pramana','Putra')\n",
    "print(nama_gw)\n",
    "\n",
    "# Positional Formatting\n",
    "String1 = \"{1} {0} {2}\".format('MySkill', 'For', 'Learning')\n",
    "print(\"\\nPrint String in Positional order: \")\n",
    "print(String1)\n",
    "\n",
    "nama_gw = \"{2} {1} {0}\".format('Aditya','Pramana','Putra')\n",
    "print(nama_gw)\n",
    "\n",
    "\n",
    "# Keyword Formatting\n",
    "String1 = \"{l} {f} {g}\".format(g='MySkill', f='For', l='Learning')\n",
    "print(\"\\nPrint String in order of Keywords: \")\n",
    "print(String1)\n",
    "\n",
    "nama_gw = \"{a} {b} {c}\".format(a='Aditya',b='Pramana',c='Putra')\n",
    "print(nama_gw)\n",
    "\n"
   ]
  },
  {
   "cell_type": "markdown",
   "id": "3acf82c2",
   "metadata": {},
   "source": [
    "Bilangan bulat seperti Biner, heksadesimal, dll., dan float dapat dibulatkan atau ditampilkan dalam bentuk eksponen dengan menggunakan penentu format."
   ]
  },
  {
   "cell_type": "code",
   "execution_count": 19,
   "id": "613cba5e",
   "metadata": {},
   "outputs": [
    {
     "name": "stdout",
     "output_type": "stream",
     "text": [
      "\n",
      "Binary representation of 16 is \n",
      "10000\n",
      "\n",
      "Exponent representation of 165.6458 is \n",
      "1.656458e+02\n",
      "\n",
      "one-sixth is : \n",
      "0.06\n"
     ]
    }
   ],
   "source": [
    "# Formatting of Integers\n",
    "String1 = \"{0:b}\".format(16)\n",
    "print(\"\\nBinary representation of 16 is \")\n",
    "print(String1)\n",
    "\n",
    "# Formatting of Floats\n",
    "String1 = \"{0:e}\".format(165.6458)\n",
    "print(\"\\nExponent representation of 165.6458 is \")\n",
    "print(String1)\n",
    "\n",
    "# Rounding off Integers\n",
    "String1 = \"{0:.2f}\".format(23/400)\n",
    "print(\"\\none-sixth is : \")\n",
    "print(String1)\n"
   ]
  },
  {
   "cell_type": "markdown",
   "id": "3f78cf4e",
   "metadata": {},
   "source": [
    "Sebuah string dapat dibiarkan () atau tengah (^) dibenarkan dengan penggunaan penentu format, dipisahkan oleh titik dua (:)."
   ]
  },
  {
   "cell_type": "code",
   "execution_count": 20,
   "id": "84072bed",
   "metadata": {},
   "outputs": [
    {
     "name": "stdout",
     "output_type": "stream",
     "text": [
      "\n",
      "Left, center and right alignment with Formatting: \n",
      "|MySkill|for|Learning|\n",
      "\n",
      "MySkillForLearning was founded in 2021!\n"
     ]
    }
   ],
   "source": [
    "# String alignment\n",
    "String1 = \"|{:<1}|{:^1}|{:>1}|\".format('MySkill','for','Learning')\n",
    "print(\"\\nLeft, center and right alignment with Formatting: \")\n",
    "print(String1)\n",
    "\n",
    "# To demonstrate aligning of spaces\n",
    "String1 = \"\\n{0:^16} was founded in {1:<4}!\".format(\"MySkillForLearning\",\n",
    "\t\t\t\t\t\t\t\t\t\t\t\t\t2021)\n",
    "print(String1)\n"
   ]
  },
  {
   "cell_type": "markdown",
   "id": "65180d49",
   "metadata": {},
   "source": [
    "Pemformatan gaya lama dilakukan tanpa menggunakan metode format dengan menggunakan % operator"
   ]
  },
  {
   "cell_type": "code",
   "execution_count": null,
   "id": "139eea70",
   "metadata": {},
   "outputs": [
    {
     "name": "stdout",
     "output_type": "stream",
     "text": [
      "Formatting in 3.2f format: \n",
      "The value of Integer1 is 12.35\n",
      "\n",
      "Formatting in 3.4f format: \n",
      "The value of Integer1 is 12.3d\n",
      "The value of Integer1 is 12.346\n"
     ]
    }
   ],
   "source": [
    "Integer1 = 12.3456789\n",
    "print(\"Formatting in 3.2f format: \")\n",
    "print('The value of Integer1 is %3.2f' % Integer1)\n",
    "print(\"\\nFormatting in 3.4f format: \")\n",
    "print('The value of Integer1 is %1.1fd' % Integer1)\n",
    "\n",
    "print('The value of Integer1 is %3.3f' % Integer1)\n",
    "#mantap\n"
   ]
  }
 ],
 "metadata": {
  "kernelspec": {
   "display_name": "base",
   "language": "python",
   "name": "python3"
  },
  "language_info": {
   "codemirror_mode": {
    "name": "ipython",
    "version": 3
   },
   "file_extension": ".py",
   "mimetype": "text/x-python",
   "name": "python",
   "nbconvert_exporter": "python",
   "pygments_lexer": "ipython3",
   "version": "3.12.4"
  }
 },
 "nbformat": 4,
 "nbformat_minor": 5
}
