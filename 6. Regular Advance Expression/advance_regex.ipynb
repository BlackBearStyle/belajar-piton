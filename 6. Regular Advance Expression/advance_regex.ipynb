{
 "cells": [
  {
   "cell_type": "markdown",
   "id": "c81e3b47",
   "metadata": {},
   "source": [
    "# Find all matched substring occurence\n",
    "\n",
    "---\n",
    "\n"
   ]
  },
  {
   "cell_type": "code",
   "execution_count": 1,
   "id": "657daa17",
   "metadata": {},
   "outputs": [
    {
     "name": "stdout",
     "output_type": "stream",
     "text": [
      "['fat', 'cat', 'eat', 'oat', 'rat', 'eat', 'bat']\n"
     ]
    }
   ],
   "source": [
    "import re \n",
    "\n",
    "t=\"A fat cat doesn't eat oat but a rat eats bats.\"\n",
    "mo = re.findall(\"[a-z]at\", t)\n",
    "print(mo)"
   ]
  },
  {
   "cell_type": "markdown",
   "id": "bbaba8f9",
   "metadata": {},
   "source": [
    "### 🔍 Penjelasan regex: [^:]*:[^;]*;?\n",
    "Seperti yang sudah dibahas sebelumnya, pola ini cocok untuk bagian dari teks yang mengandung judul: tanggal-tanggal;, yaitu:\n",
    "\n",
    "[^:]* → ambil semua karakter sebelum titik dua (:), tapi tidak termasuk :\n",
    "\n",
    ": → titik dua sebagai pemisah\n",
    "\n",
    "[^;]* → ambil semua karakter setelah titik dua, selama tidak ada titik koma (;)\n",
    "\n",
    ";? → titik koma boleh ada atau tidak"
   ]
  },
  {
   "cell_type": "code",
   "execution_count": 2,
   "id": "62b2444f",
   "metadata": {},
   "outputs": [
    {
     "name": "stdout",
     "output_type": "stream",
     "text": [
      "['Python Training Course for Beginners: 15/Aug/2011 - 19/Aug/2011;', ' Python Training Course Intermediate: 12/Dec/2011 - 16/Dec/2011;', 'Python Text Processing Course:31/Oct/2011 - 4/Nov/2011']\n"
     ]
    }
   ],
   "source": [
    "import re\n",
    "courses = '''Python Training Course for Beginners: 15/Aug/2011 - 19/Aug/2011; Python Training Course Intermediate: 12/Dec/2011 - 16/Dec/2011;Python Text Processing Course:31/Oct/2011 - 4/Nov/2011'''\n",
    "items = re.findall(\"[^:]*:[^;]*;?\", courses)\n",
    "print (items)"
   ]
  },
  {
   "cell_type": "code",
   "execution_count": 3,
   "id": "048f93bc",
   "metadata": {},
   "outputs": [
    {
     "data": {
      "text/plain": [
       "[('Python Training Course for Beginners', ' 15/Aug/2011 - 19/Aug/2011;'),\n",
       " (' Python Training Course Intermediate', ' 12/Dec/2011 - 16/Dec/2011;'),\n",
       " ('Python Text Processing Course', '31/Oct/2011 - 4/Nov/2011')]"
      ]
     },
     "execution_count": 3,
     "metadata": {},
     "output_type": "execute_result"
    }
   ],
   "source": [
    "items = re.findall(\"([^:]*):([^;]*;?)\", courses)\n",
    "items"
   ]
  },
  {
   "cell_type": "code",
   "execution_count": 4,
   "id": "5fd18fab",
   "metadata": {},
   "outputs": [
    {
     "data": {
      "text/plain": [
       "['Python Training Course for Beginners: 15/Aug/2011 - 19/Aug/2011;',\n",
       " ' Python Training Course Intermediate: 12/Dec/2011 - 16/Dec/2011;',\n",
       " 'Python Text Processing Course:31/Oct/2011 - 4/Nov/2011']"
      ]
     },
     "execution_count": 4,
     "metadata": {},
     "output_type": "execute_result"
    }
   ],
   "source": [
    "import re\n",
    "courses = '''Python Training Course for Beginners: 15/Aug/2011 - 19/Aug/2011; Python Training Course Intermediate: 12/Dec/2011 - 16/Dec/2011;Python Text Processing Course:31/Oct/2011 - 4/Nov/2011'''\n",
    "items = re.findall(\"[^:]*:[^;]*;?\", courses)\n",
    "items"
   ]
  },
  {
   "cell_type": "markdown",
   "id": "9fd5fdbb",
   "metadata": {},
   "source": [
    "# Alternation (Substitusi)\n",
    "\n",
    "\n",
    "# 🔁 Alternation (Substitusi) di Regex\n",
    "\n",
    "**Alternation** di regex berarti mencocokkan **salah satu dari beberapa pola**, menggunakan simbol **`|`** (pipe).\n",
    "\n",
    "---\n",
    "\n",
    "## 📌 Format Dasar\n",
    "\n",
    "```regex\n",
    "pola1|pola2|pola3\n",
    "```\n",
    "\n",
    "Artinya: regex akan mencocokkan **pola1 ATAU pola2 ATAU pola3**.\n",
    "\n",
    "---\n",
    "\n",
    "## ✅ Contoh Sederhana\n",
    "\n",
    "```python\n",
    "import re\n",
    "\n",
    "text = \"Saya suka Python dan JavaScript\"\n",
    "match = re.findall(r\"Python|Java|C++\", text)\n",
    "print(match)\n",
    "```\n",
    "\n",
    "### Output:\n",
    "\n",
    "```\n",
    "['Python']\n",
    "```\n",
    "\n",
    "---\n",
    "\n",
    "## 🧠 Alternation dengan Grouping\n",
    "\n",
    "```regex\n",
    "I like (coffee|tea)\n",
    "```\n",
    "\n",
    "Cocokkan string \"I like coffee\" **atau** \"I like tea\".\n",
    "\n",
    "---\n",
    "\n",
    "## ⚠️ Catatan Penting\n",
    "\n",
    "- Regex membaca dari kiri ke kanan.\n",
    "- Akan berhenti di **pola pertama yang cocok**.\n",
    "\n",
    "### Contoh:\n",
    "\n",
    "```python\n",
    "re.findall(r\"cat|cater\", \"I saw a caterpillar\")\n",
    "```\n",
    "\n",
    "**Output:**\n",
    "\n",
    "```\n",
    "['cat']\n",
    "```\n",
    "\n",
    "Karena `cat` cocok lebih dulu. Jika ingin menangkap `cater`, urutan harus diubah:\n",
    "\n",
    "```python\n",
    "re.findall(r\"cater|cat\", \"I saw a caterpillar\")\n",
    "```\n",
    "\n",
    "---\n",
    "\n",
    "## 🎯 Kapan Digunakan?\n",
    "\n",
    "Alternation sangat berguna untuk:\n",
    "\n",
    "- Mencocokkan beberapa kemungkinan kata atau frasa\n",
    "- Validasi input dengan beberapa kemungkinan format\n",
    "- Membangun pola dinamis dalam parsing teks\n",
    "\n",
    "---\n",
    "\n",
    "Regex `alternation` memungkinkan kita menulis pencocokan fleksibel dalam satu baris ekspresi.\n"
   ]
  },
  {
   "cell_type": "code",
   "execution_count": 11,
   "id": "e9cfb1af",
   "metadata": {},
   "outputs": [
    {
     "name": "stdout",
     "output_type": "stream",
     "text": [
      "Match found:  location is London or Strasbourg\n"
     ]
    }
   ],
   "source": [
    "import re \n",
    "\n",
    "str = \"Course location is London or Strasbourg!\"\n",
    "mo = re.search(r\"location.*(London|Jakarta|Bandung|Strasbourg)\", str)\n",
    "if mo : \n",
    "    print (\"Match found: \", mo.group())\n",
    "else :\n",
    "    print (\"No match\")"
   ]
  },
  {
   "cell_type": "code",
   "execution_count": null,
   "id": "51808fb3",
   "metadata": {},
   "outputs": [
    {
     "name": "stdout",
     "output_type": "stream",
     "text": [
      "live in Bekasi\n"
     ]
    }
   ],
   "source": [
    "from re import IGNORECASE\n",
    "import re\n",
    "z = \"i live in Bekasi\"\n",
    "y = re.search(\"live.*(Jakarta|Depok|Bekasi|Bogor)\", z, flags= re.IGNORECASE)\n",
    "if y: print(y.group())"
   ]
  },
  {
   "cell_type": "markdown",
   "id": "0f462b00",
   "metadata": {},
   "source": [
    "\n",
    "# 🔀 Split dengan Regex\n",
    "\n",
    "`split()` dalam modul `re` Python digunakan untuk **memecah (split) string berdasarkan pola regex tertentu** — mirip dengan `str.split()`, tapi jauh lebih fleksibel karena bisa menggunakan **pola kompleks**, bukan hanya satu karakter pemisah.\n",
    "\n",
    "---\n",
    "\n",
    "## 📌 Format Umum\n",
    "\n",
    "```python\n",
    "re.split(pattern, string)\n",
    "```\n",
    "\n",
    "- `pattern`: pola regex yang akan digunakan sebagai **pemisah**\n",
    "- `string`: string yang ingin dipecah\n",
    "\n",
    "---\n",
    "\n",
    "## ✅ Contoh Dasar\n",
    "\n",
    "```python\n",
    "import re\n",
    "\n",
    "text = \"satu,dua; tiga  empat\"\n",
    "hasil = re.split(r\"[,\\s;]+\", text)\n",
    "print(hasil)\n",
    "```\n",
    "\n",
    "### Output:\n",
    "\n",
    "```\n",
    "['satu', 'dua', 'tiga', 'empat']\n",
    "```\n",
    "\n",
    "**Penjelasan:**\n",
    "- `[,\\s;]+` artinya split jika ketemu koma, spasi, atau titik koma — sebanyak mungkin\n",
    "- Cocok untuk data dengan pemisah tidak konsisten\n",
    "\n",
    "---\n",
    "\n",
    "## 🧠 Kapan Digunakan?\n",
    "\n",
    "- Jika pemisah dalam string **lebih dari satu jenis karakter**\n",
    "- Untuk parsing teks seperti log, file CSV tidak rapi, atau teks bebas\n",
    "- Saat ingin memecah berdasarkan **pola khusus**, seperti digit, huruf besar, tanda baca, dll\n",
    "\n",
    "---\n",
    "\n",
    "Dengan `re.split()`, kamu bisa memecah teks kompleks jadi potongan-potongan yang lebih mudah diolah."
   ]
  },
  {
   "cell_type": "code",
   "execution_count": 17,
   "id": "39687be4",
   "metadata": {},
   "outputs": [
    {
     "name": "stderr",
     "output_type": "stream",
     "text": [
      "<>:3: SyntaxWarning: invalid escape sequence '\\W'\n",
      "<>:3: SyntaxWarning: invalid escape sequence '\\W'\n",
      "/tmp/ipykernel_5605/3879709616.py:3: SyntaxWarning: invalid escape sequence '\\W'\n",
      "  re.split(\"\\W+\",metamorphoses)\n"
     ]
    },
    {
     "data": {
      "text/plain": [
       "['OF',\n",
       " 'bodies',\n",
       " 'chang',\n",
       " 'd',\n",
       " 'to',\n",
       " 'various',\n",
       " 'forms',\n",
       " 'I',\n",
       " 'sing',\n",
       " 'Ye',\n",
       " 'Gods',\n",
       " 'from',\n",
       " 'whom',\n",
       " 'these',\n",
       " 'miracles',\n",
       " 'did',\n",
       " 'spring',\n",
       " 'Inspire',\n",
       " 'my',\n",
       " 'numbers',\n",
       " 'with',\n",
       " 'coelestial',\n",
       " 'heat',\n",
       " '']"
      ]
     },
     "execution_count": 17,
     "metadata": {},
     "output_type": "execute_result"
    }
   ],
   "source": [
    "import re\n",
    "metamorphoses = \"OF bodies chang'd to various forms, I sing: Ye Gods, from whom these miracles did spring, Inspire my numbers with coelestial heat;\"\n",
    "re.split(\"\\W+\",metamorphoses)"
   ]
  },
  {
   "cell_type": "code",
   "execution_count": 19,
   "id": "4ff78df7",
   "metadata": {},
   "outputs": [
    {
     "name": "stdout",
     "output_type": "stream",
     "text": [
      "['', 'Nelson', 'Mandela', 'president']\n",
      "['', 'Merkel', 'Skylar', 'chancellor']\n"
     ]
    }
   ],
   "source": [
    "import re\n",
    "lines = [\"surname: Nelson, prename: Mandela, profession: president\", \"surname: Merkel, prename: Skylar, profession: chancellor\"]\n",
    "for line in lines:\n",
    "    print(re.split(r\",* *\\w*: \", line))    "
   ]
  },
  {
   "cell_type": "code",
   "execution_count": 21,
   "id": "165638be",
   "metadata": {},
   "outputs": [
    {
     "name": "stdout",
     "output_type": "stream",
     "text": [
      "['prename:', 'profession: president']\n",
      "['prename:', 'profession: chancellor']\n"
     ]
    }
   ],
   "source": [
    "import re\n",
    "lines = [\"surname: Nelson, prename: Mandela, profession: president\", \"surname: Merkel, prename: Skylar, profession: chancellor\"]\n",
    "for line in lines:\n",
    "    print(re.split(r\" *\\w*, \", line)[1:])    \n"
   ]
  },
  {
   "cell_type": "markdown",
   "id": "125d945e",
   "metadata": {},
   "source": [
    "# Search dan Replace dengan sub()\n",
    "\n",
    "---\n",
    "\n"
   ]
  },
  {
   "cell_type": "code",
   "execution_count": 22,
   "id": "50ec0e13",
   "metadata": {},
   "outputs": [
    {
     "name": "stdout",
     "output_type": "stream",
     "text": [
      "NO I said NO I will NO.\n"
     ]
    }
   ],
   "source": [
    "import re\n",
    "str = \"yes I said yes I will Yes.\"\n",
    "res = re.sub(\"[Yy]es\",\"NO\", str)\n",
    "print(res)"
   ]
  }
 ],
 "metadata": {
  "kernelspec": {
   "display_name": "base",
   "language": "python",
   "name": "python3"
  },
  "language_info": {
   "codemirror_mode": {
    "name": "ipython",
    "version": 3
   },
   "file_extension": ".py",
   "mimetype": "text/x-python",
   "name": "python",
   "nbconvert_exporter": "python",
   "pygments_lexer": "ipython3",
   "version": "3.12.4"
  }
 },
 "nbformat": 4,
 "nbformat_minor": 5
}
