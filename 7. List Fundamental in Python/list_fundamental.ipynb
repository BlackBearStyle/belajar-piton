{
 "cells": [
  {
   "cell_type": "markdown",
   "id": "0e7c2fe6",
   "metadata": {},
   "source": [
    "# Python List\n",
    "\n",
    "\n",
    "# Penjelasan Python List\n",
    "\n",
    "**Python list** adalah salah satu struktur data built-in di Python yang digunakan untuk menyimpan **sekumpulan item dalam satu variabel**. List sangat fleksibel karena bisa berisi berbagai tipe data seperti angka, string, boolean, bahkan list lainnya.\n",
    "\n",
    "## Ciri-ciri Python List:\n",
    "- Dideklarasikan dengan **tanda kurung siku `[]`**.\n",
    "- Bisa berisi **elemen dari tipe data campuran**.\n",
    "- Bersifat **mutable** (bisa diubah setelah dibuat).\n",
    "- Mendukung operasi seperti **menambah, menghapus, mengakses, dan mengurutkan elemen**.\n",
    "\n",
    "## Contoh List:\n",
    "\n",
    "```python\n",
    "# List berisi angka\n",
    "angka = [1, 2, 3, 4, 5]\n",
    "\n",
    "# List berisi string\n",
    "buah = [\"apel\", \"jeruk\", \"mangga\"]\n",
    "\n",
    "# List campuran\n",
    "campuran = [1, \"dua\", 3.0, True]\n",
    "\n",
    "# List kosong\n",
    "kosong = []\n",
    "```\n",
    "\n",
    "## Operasi Umum:\n",
    "\n",
    "```python\n",
    "# Mengakses elemen (indeks dimulai dari 0)\n",
    "print(buah[0])  # Output: apel\n",
    "\n",
    "# Menambahkan elemen\n",
    "buah.append(\"pisang\")\n",
    "\n",
    "# Menghapus elemen\n",
    "buah.remove(\"jeruk\")\n",
    "\n",
    "# Mengubah elemen\n",
    "buah[1] = \"anggur\"\n",
    "\n",
    "# Panjang list\n",
    "print(len(buah))  # Output: 3\n",
    "```"
   ]
  },
  {
   "cell_type": "code",
   "execution_count": 1,
   "id": "94eca09d",
   "metadata": {},
   "outputs": [],
   "source": [
    "mylist = [\"faras\", \"Tata\", \"Fauziah\"]"
   ]
  },
  {
   "cell_type": "markdown",
   "id": "66f5f1b7",
   "metadata": {},
   "source": [
    "# boleh duplicate"
   ]
  },
  {
   "cell_type": "code",
   "execution_count": 2,
   "id": "10072d0c",
   "metadata": {},
   "outputs": [
    {
     "name": "stdout",
     "output_type": "stream",
     "text": [
      "['myskill', 'learning', 'portal', 'myskill', 'student']\n"
     ]
    }
   ],
   "source": [
    "mylists = [\"myskill\", \"learning\", \"portal\", \"myskill\", \"student\"]\n",
    "print(mylists)"
   ]
  },
  {
   "cell_type": "markdown",
   "id": "176f3c2c",
   "metadata": {},
   "source": [
    "# panjang list"
   ]
  },
  {
   "cell_type": "code",
   "execution_count": 3,
   "id": "b093cd94",
   "metadata": {},
   "outputs": [
    {
     "name": "stdout",
     "output_type": "stream",
     "text": [
      "5\n"
     ]
    }
   ],
   "source": [
    "print(len(mylists))"
   ]
  },
  {
   "cell_type": "markdown",
   "id": "5c09a0c4",
   "metadata": {},
   "source": [
    "# list boleh pake tipe data apa aja"
   ]
  },
  {
   "cell_type": "code",
   "execution_count": 4,
   "id": "9a3cfb57",
   "metadata": {},
   "outputs": [],
   "source": [
    "list1 = [\"Nisa\", \"Cantik\", \"Banget\"]\n",
    "list2 = [1, 2, 3, 4, 5]\n",
    "list3 = [True, False, False]"
   ]
  },
  {
   "cell_type": "code",
   "execution_count": 5,
   "id": "e44be75d",
   "metadata": {},
   "outputs": [],
   "source": [
    "lists = [\"MySkill\", 25, False, 23, \"student\"]"
   ]
  },
  {
   "cell_type": "markdown",
   "id": "253f48cc",
   "metadata": {},
   "source": [
    "# cara mengecek tipe list"
   ]
  },
  {
   "cell_type": "code",
   "execution_count": 6,
   "id": "40e24988",
   "metadata": {},
   "outputs": [
    {
     "name": "stdout",
     "output_type": "stream",
     "text": [
      "<class 'list'>\n"
     ]
    }
   ],
   "source": [
    "print(type(lists))"
   ]
  },
  {
   "cell_type": "markdown",
   "id": "112cd641",
   "metadata": {},
   "source": [
    "\n",
    "# List Konstruktor di Python\n",
    "\n",
    "List konstruktor adalah cara membuat list menggunakan fungsi bawaan Python bernama `list()`. Fungsi ini dapat mengubah tipe data iterable (seperti string, tuple, atau range) menjadi list.\n",
    "\n",
    "---\n",
    "\n",
    "## Penjelasan singkat:\n",
    "\n",
    "- `list()` adalah fungsi untuk membuat list baru.\n",
    "- Bisa dipakai tanpa argumen untuk membuat list kosong.\n",
    "- Bisa juga dipakai dengan argumen iterable untuk mengubahnya menjadi list.\n",
    "\n",
    "---\n",
    "\n",
    "## Contoh penggunaan list konstruktor:\n",
    "\n",
    "```python\n",
    "# Membuat list kosong\n",
    "kosong = list()\n",
    "print(kosong)  # Output: []\n",
    "\n",
    "# Mengubah string menjadi list karakter\n",
    "karakter = list(\"halo\")\n",
    "print(karakter)  # Output: ['h', 'a', 'l', 'o']\n",
    "\n",
    "# Mengubah tuple menjadi list\n",
    "tuple_data = (1, 2, 3)\n",
    "list_dari_tuple = list(tuple_data)\n",
    "print(list_dari_tuple)  # Output: [1, 2, 3]\n",
    "\n",
    "# Mengubah range menjadi list\n",
    "angka = list(range(5))\n",
    "print(angka)  # Output: [0, 1, 2, 3, 4]\n",
    "```\n",
    "\n",
    "---\n",
    "\n",
    "## Kenapa pakai list konstruktor?\n",
    "\n",
    "- Saat kamu ingin membuat list dari tipe data lain yang iterable.\n",
    "- Membuat list baru yang merupakan salinan dari list atau iterable lain (agar tidak memodifikasi data asli)."
   ]
  },
  {
   "cell_type": "code",
   "execution_count": 8,
   "id": "a4ca8968",
   "metadata": {},
   "outputs": [
    {
     "name": "stdout",
     "output_type": "stream",
     "text": [
      "['apps', 'os', 'version']\n",
      "['ayam', 'bebek', 'ikan']\n"
     ]
    }
   ],
   "source": [
    "mylist = list((\"apps\", \"os\", \"version\")) # hrs menggunakan double kurung siku\n",
    "print(mylist)\n",
    "\n",
    "tuple_nih = (\"ayam\", \"bebek\", \"ikan\")\n",
    "print(list(tuple_nih))"
   ]
  },
  {
   "cell_type": "markdown",
   "id": "367bb4c1",
   "metadata": {},
   "source": [
    "# list bisa di modikasi dengan index "
   ]
  },
  {
   "cell_type": "markdown",
   "id": "8780c168",
   "metadata": {},
   "source": [
    "## contoh akses index list"
   ]
  },
  {
   "cell_type": "code",
   "execution_count": 9,
   "id": "61e6ecfe",
   "metadata": {},
   "outputs": [
    {
     "name": "stdout",
     "output_type": "stream",
     "text": [
      "apps\n"
     ]
    }
   ],
   "source": [
    "print(mylist[0])"
   ]
  },
  {
   "cell_type": "markdown",
   "id": "8b47b843",
   "metadata": {},
   "source": [
    "## contoh akses list dengan nagative index"
   ]
  },
  {
   "cell_type": "code",
   "execution_count": 10,
   "id": "40cec96c",
   "metadata": {},
   "outputs": [
    {
     "name": "stdout",
     "output_type": "stream",
     "text": [
      "version\n"
     ]
    }
   ],
   "source": [
    "# akses list di bagian belakang\n",
    "print(mylist[-1])"
   ]
  },
  {
   "cell_type": "markdown",
   "id": "5e5f21a4",
   "metadata": {},
   "source": [
    "\n",
    "# Index dan Range di Python\n",
    "\n",
    "**Index** dan **range** adalah dua konsep yang sangat penting saat bekerja dengan list (atau struktur data sejenis) di Python.\n",
    "\n",
    "---\n",
    "\n",
    "## 1. Apa itu **Index**?\n",
    "\n",
    "**Index** adalah posisi atau alamat dari elemen dalam list. Di Python, index dimulai dari **0**.\n",
    "\n",
    "### Contoh:\n",
    "\n",
    "```python\n",
    "buah = [\"apel\", \"jeruk\", \"mangga\"]\n",
    "\n",
    "print(buah[0])  # Output: apel\n",
    "print(buah[1])  # Output: jeruk\n",
    "print(buah[2])  # Output: mangga\n",
    "```\n",
    "\n",
    "Kamu juga bisa pakai **index negatif** untuk menghitung dari belakang:\n",
    "\n",
    "```python\n",
    "print(buah[-1])  # Output: mangga\n",
    "print(buah[-2])  # Output: jeruk\n",
    "```\n",
    "\n",
    "---\n",
    "\n",
    "## 2. Apa itu **Range**?\n",
    "\n",
    "**Range** adalah fungsi (`range()`) yang menghasilkan urutan angka yang bisa diubah menjadi list, atau digunakan dalam perulangan (`for` loop).\n",
    "\n",
    "### Format fungsi:\n",
    "\n",
    "```python\n",
    "range(start, stop, step)\n",
    "```\n",
    "\n",
    "- `start`: angka awal (opsional, default = 0)\n",
    "- `stop`: angka akhir (tidak termasuk)\n",
    "- `step`: loncatan antar angka (opsional)\n",
    "\n",
    "### Contoh:\n",
    "\n",
    "```python\n",
    "print(list(range(5)))          # Output: [0, 1, 2, 3, 4]\n",
    "print(list(range(1, 6)))       # Output: [1, 2, 3, 4, 5]\n",
    "print(list(range(0, 10, 2)))   # Output: [0, 2, 4, 6, 8]\n",
    "```\n",
    "\n",
    "---\n",
    "\n",
    "## Gabungan Index dan Range\n",
    "\n",
    "Kita sering memakai **range()** untuk mengakses elemen list lewat index di loop:\n",
    "\n",
    "```python\n",
    "buah = [\"apel\", \"jeruk\", \"mangga\"]\n",
    "for i in range(len(buah)):\n",
    "    print(f\"Index {i} = {buah[i]}\")\n",
    "```\n",
    "\n",
    "### Output:\n",
    "```\n",
    "Index 0 = apel  \n",
    "Index 1 = jeruk  \n",
    "Index 2 = mangga\n",
    "```"
   ]
  },
  {
   "cell_type": "code",
   "execution_count": 13,
   "id": "22c57449",
   "metadata": {},
   "outputs": [
    {
     "name": "stdout",
     "output_type": "stream",
     "text": [
      "['apps', 'os', 'version']\n",
      "\n",
      "['os', 'version']\n",
      "\n",
      "['apps', 'os']\n",
      "\n",
      "['os', 'version']\n"
     ]
    }
   ],
   "source": [
    "print(mylist)\n",
    "print()\n",
    "print(mylist[1:4])\n",
    "print()\n",
    "print(mylist[:2])\n",
    "print()\n",
    "print(mylist[1:])"
   ]
  },
  {
   "cell_type": "markdown",
   "id": "0d6db9fc",
   "metadata": {},
   "source": [
    "### merubah element list"
   ]
  },
  {
   "cell_type": "code",
   "execution_count": 15,
   "id": "dae68540",
   "metadata": {},
   "outputs": [
    {
     "name": "stdout",
     "output_type": "stream",
     "text": [
      "['apps', 'os', 'version']\n",
      "['macos', 'os', 'version']\n"
     ]
    }
   ],
   "source": [
    "print(mylist)\n",
    "mylist[0] = \"macos\"\n",
    "print(mylist)"
   ]
  },
  {
   "cell_type": "code",
   "execution_count": 16,
   "id": "7d4ecda1",
   "metadata": {},
   "outputs": [
    {
     "name": "stdout",
     "output_type": "stream",
     "text": [
      "['macos', 'android', 'nougat']\n"
     ]
    }
   ],
   "source": [
    "mylist[1:3] = [\"android\", \"nougat\"]\n",
    "print(mylist)"
   ]
  },
  {
   "cell_type": "markdown",
   "id": "fde98c58",
   "metadata": {},
   "source": [
    "Jika kita memasukkan lebih banyak item daripada yang kita ganti, item baru akan disisipkan di tempat yang kita tentukan, dan item yang tersisa akan bergerak:"
   ]
  },
  {
   "cell_type": "code",
   "execution_count": 17,
   "id": "da6f18d7",
   "metadata": {},
   "outputs": [
    {
     "name": "stdout",
     "output_type": "stream",
     "text": [
      "['apple', 'blackcurrant', 'watermelon', 'cherry']\n"
     ]
    }
   ],
   "source": [
    "thislist = [\"apple\", \"banana\", \"cherry\"]\n",
    "thislist[1:2] = [\"blackcurrant\", \"watermelon\"]\n",
    "print(thislist)"
   ]
  },
  {
   "cell_type": "markdown",
   "id": "f46d7435",
   "metadata": {},
   "source": [
    "Jika kita memasukkan lebih sedikit item daripada yang kita ganti, item baru akan disisipkan di tempat yang kita tentukan, dan item yang tersisa akan bergerak:"
   ]
  },
  {
   "cell_type": "code",
   "execution_count": 18,
   "id": "b9ab2d3d",
   "metadata": {},
   "outputs": [
    {
     "name": "stdout",
     "output_type": "stream",
     "text": [
      "['apple', 'watermelon']\n"
     ]
    }
   ],
   "source": [
    "thislist = [\"apple\", \"banana\", \"cherry\"]\n",
    "thislist[1:3] = [\"watermelon\"]\n",
    "print(thislist)"
   ]
  },
  {
   "cell_type": "markdown",
   "id": "375ad462",
   "metadata": {},
   "source": [
    "\n",
    "# Menambahkan Item ke List di Python\n",
    "\n",
    "Di Python, ada tiga metode utama untuk menambahkan item ke list: `append()`, `insert()`, dan `extend()`. Meskipun ketiganya digunakan untuk menambahkan elemen, fungsi dan cara kerjanya berbeda.\n",
    "\n",
    "---\n",
    "\n",
    "## 🔹 1. `append(item)`\n",
    "\n",
    "- **Menambahkan satu elemen ke akhir list.**\n",
    "- Elemen bisa berupa tipe data apa saja, termasuk list (akan ditambahkan sebagai satu item).\n",
    "\n",
    "### Contoh:\n",
    "\n",
    "```python\n",
    "buah = [\"apel\", \"jeruk\"]\n",
    "buah.append(\"mangga\")\n",
    "print(buah)  # Output: ['apel', 'jeruk', 'mangga']\n",
    "\n",
    "buah.append([\"pisang\", \"melon\"])\n",
    "print(buah)  # Output: ['apel', 'jeruk', 'mangga', ['pisang', 'melon']]\n",
    "```\n",
    "\n",
    "---\n",
    "\n",
    "## 🔹 2. `insert(index, item)`\n",
    "\n",
    "- **Menambahkan satu elemen pada posisi (index) tertentu.**\n",
    "- Elemen-elemen setelahnya akan bergeser ke kanan.\n",
    "\n",
    "### Contoh:\n",
    "\n",
    "```python\n",
    "buah = [\"apel\", \"jeruk\"]\n",
    "buah.insert(1, \"mangga\")\n",
    "print(buah)  # Output: ['apel', 'mangga', 'jeruk']\n",
    "```\n",
    "\n",
    "---\n",
    "\n",
    "## 🔹 3. `extend(iterable)`\n",
    "\n",
    "- **Menambahkan banyak elemen (dari iterable seperti list, tuple, dll) ke akhir list.**\n",
    "- Setiap elemen dari iterable ditambahkan satu per satu.\n",
    "\n",
    "### Contoh:\n",
    "\n",
    "```python\n",
    "buah = [\"apel\", \"jeruk\"]\n",
    "buah.extend([\"mangga\", \"pisang\"])\n",
    "print(buah)  # Output: ['apel', 'jeruk', 'mangga', 'pisang']\n",
    "```\n",
    "\n",
    "---\n",
    "\n",
    "## 🔸 Perbedaan Utama:\n",
    "\n",
    "| Metode   | Fungsi                                               | Contoh Input             | Hasil                                     |\n",
    "|----------|------------------------------------------------------|--------------------------|--------------------------------------------|\n",
    "| `append` | Menambahkan satu elemen ke akhir list                | `[\"a\"].append(\"b\")`      | `[\"a\", \"b\"]`                               |\n",
    "|          | Menambahkan list sebagai satu item                   | `[\"a\"].append([\"b\", \"c\"])`| `[\"a\", [\"b\", \"c\"]]`                        |\n",
    "| `insert` | Menambahkan satu elemen pada posisi tertentu         | `[\"a\", \"c\"].insert(1, \"b\")`| `[\"a\", \"b\", \"c\"]`                          |\n",
    "| `extend` | Menambahkan semua elemen dari iterable ke akhir list| `[\"a\"].extend([\"b\", \"c\"])`| `[\"a\", \"b\", \"c\"]`                          |"
   ]
  },
  {
   "cell_type": "markdown",
   "id": "733ca4d0",
   "metadata": {},
   "source": [
    "### contoh append"
   ]
  },
  {
   "cell_type": "code",
   "execution_count": 19,
   "id": "cb7e4d80",
   "metadata": {},
   "outputs": [
    {
     "name": "stdout",
     "output_type": "stream",
     "text": [
      "['apple', 'banana', 'cherry', 'orange']\n"
     ]
    }
   ],
   "source": [
    "thislist = [\"apple\", \"banana\", \"cherry\"]\n",
    "thislist.append(\"orange\")\n",
    "print(thislist)"
   ]
  },
  {
   "cell_type": "markdown",
   "id": "6e0599b4",
   "metadata": {},
   "source": [
    "### contoh insert"
   ]
  },
  {
   "cell_type": "code",
   "execution_count": 20,
   "id": "7b3a8090",
   "metadata": {},
   "outputs": [
    {
     "name": "stdout",
     "output_type": "stream",
     "text": [
      "['apple', 'orange', 'banana', 'cherry']\n"
     ]
    }
   ],
   "source": [
    "thislist = [\"apple\", \"banana\", \"cherry\"]\n",
    "thislist.insert(1, \"orange\")\n",
    "print(thislist)"
   ]
  },
  {
   "cell_type": "markdown",
   "id": "44390c45",
   "metadata": {},
   "source": [
    "### contoh extend"
   ]
  },
  {
   "cell_type": "code",
   "execution_count": 21,
   "id": "ff423008",
   "metadata": {},
   "outputs": [
    {
     "name": "stdout",
     "output_type": "stream",
     "text": [
      "['apple', 'banana', 'cherry', 'mango', 'pineapple', 'papaya']\n"
     ]
    }
   ],
   "source": [
    "thislist = [\"apple\", \"banana\", \"cherry\"]\n",
    "tropical = [\"mango\", \"pineapple\", \"papaya\"]\n",
    "thislist.extend(tropical)\n",
    "print(thislist)"
   ]
  },
  {
   "cell_type": "code",
   "execution_count": null,
   "id": "bbb06fe1",
   "metadata": {},
   "outputs": [
    {
     "name": "stdout",
     "output_type": "stream",
     "text": [
      "['apple', 'banana', 'cherry', 'kiwi', 'orange']\n"
     ]
    }
   ],
   "source": [
    "# func extend bisa di combine ama tuple, kek list ama tuple itu di gabung\n",
    "# ending nya entar jadi list\n",
    "thislist = [\"apple\", \"banana\", \"cherry\"]\n",
    "thistuple = (\"kiwi\", \"orange\")\n",
    "thislist.extend(thistuple)\n",
    "print(thislist)"
   ]
  },
  {
   "cell_type": "markdown",
   "id": "40537b3c",
   "metadata": {},
   "source": [
    "\n",
    "# Menghapus Item dari List di Python\n",
    "\n",
    "Python menyediakan beberapa cara untuk menghapus item dari list, tergantung pada kebutuhan. Berikut adalah metode-metode yang umum digunakan:\n",
    "\n",
    "---\n",
    "\n",
    "## 🔹 1. `remove(value)`\n",
    "\n",
    "- Menghapus **item pertama** yang cocok dengan nilai (`value`) yang diberikan.\n",
    "- Jika nilainya tidak ada di list, akan muncul **error** (`ValueError`).\n",
    "\n",
    "### Contoh:\n",
    "```python\n",
    "buah = [\"apel\", \"jeruk\", \"mangga\", \"jeruk\"]\n",
    "buah.remove(\"jeruk\")\n",
    "print(buah)  # Output: ['apel', 'mangga', 'jeruk']\n",
    "```\n",
    "\n",
    "---\n",
    "\n",
    "## 🔹 2. `pop([index])`\n",
    "\n",
    "- Menghapus item di **index tertentu**, dan **mengembalikan item tersebut**.\n",
    "- Jika tidak diberi index, maka akan menghapus item **terakhir**.\n",
    "- Kalau index tidak valid → `IndexError`.\n",
    "\n",
    "### Contoh:\n",
    "```python\n",
    "buah = [\"apel\", \"jeruk\", \"mangga\"]\n",
    "buah.pop()       # Hapus terakhir → 'mangga'\n",
    "buah.pop(0)      # Hapus 'apel'\n",
    "print(buah)      # Output: ['jeruk']\n",
    "```\n",
    "\n",
    "---\n",
    "\n",
    "## 🔹 3. `del` statement\n",
    "\n",
    "- Kata kunci (`keyword`) Python, bukan method.\n",
    "- Bisa digunakan untuk menghapus:\n",
    "  - Item berdasarkan index\n",
    "  - Beberapa item sekaligus dengan slicing\n",
    "  - Seluruh list\n",
    "\n",
    "### Contoh:\n",
    "```python\n",
    "buah = [\"apel\", \"jeruk\", \"mangga\"]\n",
    "del buah[1]      # Hapus 'jeruk'\n",
    "print(buah)      # Output: ['apel', 'mangga']\n",
    "\n",
    "del buah[:]      # Hapus semua isi list\n",
    "print(buah)      # Output: []\n",
    "```\n",
    "\n",
    "---\n",
    "\n",
    "## 🔹 4. `clear()`\n",
    "\n",
    "- Menghapus **semua item** dalam list, sehingga menjadi list kosong.\n",
    "\n",
    "### Contoh:\n",
    "```python\n",
    "buah = [\"apel\", \"jeruk\"]\n",
    "buah.clear()\n",
    "print(buah)  # Output: []\n",
    "```\n",
    "\n",
    "---\n",
    "\n",
    "## 🔸 Ringkasan Perbedaan:\n",
    "\n",
    "| Metode       | Hapus Berdasarkan | Mengembalikan Nilai? | Catatan                                |\n",
    "|--------------|-------------------|-----------------------|----------------------------------------|\n",
    "| `remove()`   | Nilai             | ❌                    | Hanya hapus **pertama** yang cocok     |\n",
    "| `pop()`      | Index (opsional)  | ✅                    | Default hapus elemen terakhir          |\n",
    "| `del`        | Index / Slice     | ❌                    | Keyword, fleksibel tapi raw            |\n",
    "| `clear()`    | Semua isi list    | ❌                    | List jadi kosong                       |"
   ]
  },
  {
   "cell_type": "code",
   "execution_count": null,
   "id": "ded46b5d",
   "metadata": {},
   "outputs": [
    {
     "name": "stdout",
     "output_type": "stream",
     "text": [
      "['apple', 'cherry']\n",
      "item not found\n"
     ]
    }
   ],
   "source": [
    "# menghapus item dengan func remove()\n",
    "\n",
    "thislist = [\"apple\", \"banana\", \"cherry\"]\n",
    "thislist.remove(\"banana\")\n",
    "print(thislist)\n",
    "\n",
    "# kalau kagak ada output nya error, bisa di solve pake try catch\n",
    "# thislist = [\"apple\", \"banana\", \"cherry\"]\n",
    "# thislist.remove(\"ayam\")\n",
    "# print(thislist)\n",
    "\n",
    "# pake try except\n",
    "try:\n",
    "    thislist = [\"apple\", \"banana\", \"cherry\"]\n",
    "    thislist.remove(\"ayam\")\n",
    "    print(thislist)\n",
    "except:\n",
    "    print(\"item not found\")"
   ]
  },
  {
   "cell_type": "code",
   "execution_count": null,
   "id": "38a1a672",
   "metadata": {},
   "outputs": [
    {
     "ename": "IndexError",
     "evalue": "pop index out of range",
     "output_type": "error",
     "traceback": [
      "\u001b[0;31m---------------------------------------------------------------------------\u001b[0m",
      "\u001b[0;31mIndexError\u001b[0m                                Traceback (most recent call last)",
      "Cell \u001b[0;32mIn[27], line 3\u001b[0m\n\u001b[1;32m      1\u001b[0m \u001b[38;5;66;03m# kalau fungsi pop itu hapus by index\u001b[39;00m\n\u001b[1;32m      2\u001b[0m thislist \u001b[38;5;241m=\u001b[39m [\u001b[38;5;124m\"\u001b[39m\u001b[38;5;124mapple\u001b[39m\u001b[38;5;124m\"\u001b[39m, \u001b[38;5;124m\"\u001b[39m\u001b[38;5;124mbanana\u001b[39m\u001b[38;5;124m\"\u001b[39m, \u001b[38;5;124m\"\u001b[39m\u001b[38;5;124mcherry\u001b[39m\u001b[38;5;124m\"\u001b[39m]\n\u001b[0;32m----> 3\u001b[0m thislist\u001b[38;5;241m.\u001b[39mpop(\u001b[38;5;241m10\u001b[39m)\n\u001b[1;32m      4\u001b[0m \u001b[38;5;28mprint\u001b[39m(thislist)\n",
      "\u001b[0;31mIndexError\u001b[0m: pop index out of range"
     ]
    }
   ],
   "source": [
    "# kalau fungsi pop itu hapus by index\n",
    "# kalau index kagak ada bakalan error, bisa di solve pake try catch\n",
    "thislist = [\"apple\", \"banana\", \"cherry\"]\n",
    "thislist.pop(10)\n",
    "print(thislist)"
   ]
  },
  {
   "cell_type": "code",
   "execution_count": 28,
   "id": "e67c3cc1",
   "metadata": {},
   "outputs": [
    {
     "name": "stdout",
     "output_type": "stream",
     "text": [
      "['banana', 'cherry']\n"
     ]
    }
   ],
   "source": [
    "# kalau fungsi del itu menghapus pake slice, beda lah ama pop\n",
    "thislist = [\"apple\", \"banana\", \"cherry\"]\n",
    "del thislist[0]\n",
    "print(thislist)"
   ]
  },
  {
   "cell_type": "code",
   "execution_count": null,
   "id": "c141496d",
   "metadata": {},
   "outputs": [
    {
     "name": "stdout",
     "output_type": "stream",
     "text": [
      "[]\n"
     ]
    }
   ],
   "source": [
    "# menghapus seluruh list\n",
    "thislist = [\"apple\", \"banana\", \"cherry\"]\n",
    "thislist.clear()\n",
    "print(thislist)"
   ]
  },
  {
   "cell_type": "markdown",
   "id": "ef1fa53a",
   "metadata": {},
   "source": [
    "# Cara Melakukan Loop pada List di Python\n",
    "\n",
    "Berikut adalah berbagai cara melakukan perulangan (looping) pada list di Python, tergantung pada kebutuhan.\n",
    "\n",
    "## For Loop Sederhana\n",
    "Digunakan untuk mengakses setiap item satu per satu.\n",
    "\n",
    "Contoh:\n",
    "\n",
    "```python\n",
    "buah = [\"apel\", \"jeruk\", \"mangga\"]\n",
    "for item in buah:\n",
    "    print(item)\n",
    "```\n",
    "\n",
    "## Loop dengan Index: for i in range(len(list))\n",
    "Digunakan kalau kamu butuh tahu posisi (index) dari item.\n",
    "\n",
    "Contoh:\n",
    "\n",
    "```python\n",
    "buah = [\"apel\", \"jeruk\", \"mangga\"]\n",
    "for i in range(len(buah)):\n",
    "    print(f\"Index {i}: {buah[i]}\")\n",
    "```\n",
    "## Loop dengan enumerate()\n",
    "Cara elegan dan Pythonic untuk dapatkan index dan item sekaligus.\n",
    "\n",
    "Contoh:\n",
    "\n",
    "```python\n",
    "buah = [\"apel\", \"jeruk\", \"mangga\"]\n",
    "for index, item in enumerate(buah):\n",
    "    print(f\"{index} → {item}\")\n",
    "```\n",
    "## Loop dengan while\n",
    "Digunakan saat kamu ingin lebih mengontrol kondisi perulangan.\n",
    "\n",
    "Contoh:\n",
    "\n",
    "```python\n",
    "buah = [\"apel\", \"jeruk\", \"mangga\"]\n",
    "i = 0\n",
    "while i < len(buah):\n",
    "    print(buah[i])\n",
    "    i += 1\n",
    "```\n",
    "## List Comprehension\n",
    "Bentuk ringkas loop untuk membuat list baru dari list yang ada.\n",
    "\n",
    "Contoh:\n",
    "\n",
    "```python\n",
    "buah = [\"apel\", \"jeruk\", \"mangga\"]\n",
    "huruf_besar = [item.upper() for item in buah]\n",
    "print(huruf_besar)  # Output: ['APEL', 'JERUK', 'MANGGA']\n",
    "```\n",
    "## Nested Loop (Loop Bersarang)\n",
    "Digunakan jika list berisi list (nested list).\n",
    "\n",
    "Contoh:\n",
    "\n",
    "```python\n",
    "data = [[\"apel\", \"jeruk\"], [\"mangga\", \"pisang\"]]\n",
    "for sublist in data:\n",
    "    for buah in sublist:\n",
    "        print(buah)\n",
    "```\n",
    "## Loop sambil Memodifikasi List (Hati-hati!)\n",
    "Jangan ubah isi list langsung saat di-loop! Gunakan salinan jika perlu:\n",
    "\n",
    "Contoh:\n",
    "\n",
    "```python\n",
    "angka = [1, 2, 3, 4]\n",
    "for x in angka[:]:  # gunakan salinan\n",
    "    if x % 2 == 0:\n",
    "        angka.remove(x)\n",
    "print(angka)  # Output: [1, 3]\n",
    "```\n",
    "Kalau mau ada bagian yang diperjelas atau contoh tambahan, tinggal bilang saja!"
   ]
  },
  {
   "cell_type": "code",
   "execution_count": 30,
   "id": "9db0a615",
   "metadata": {},
   "outputs": [
    {
     "name": "stdout",
     "output_type": "stream",
     "text": [
      "apple\n",
      "banana\n",
      "cherry\n"
     ]
    }
   ],
   "source": [
    "# loop biasa di list\n",
    "thislist = [\"apple\", \"banana\", \"cherry\"]\n",
    "for x in thislist:\n",
    "    print(x)"
   ]
  },
  {
   "cell_type": "code",
   "execution_count": null,
   "id": "11164101",
   "metadata": {},
   "outputs": [
    {
     "name": "stdout",
     "output_type": "stream",
     "text": [
      "apple\n",
      "banana\n",
      "cherry\n"
     ]
    }
   ],
   "source": [
    "# bisa pakai range\n",
    "thislist = [\"apple\", \"banana\", \"cherry\"]\n",
    "for i in range(len(thislist)):\n",
    "  print(thislist[i])"
   ]
  },
  {
   "cell_type": "code",
   "execution_count": 35,
   "id": "18012472",
   "metadata": {},
   "outputs": [
    {
     "name": "stdout",
     "output_type": "stream",
     "text": [
      "apple\n",
      "banana\n",
      "cherry\n"
     ]
    }
   ],
   "source": [
    "# pakai while loop\n",
    "thislist = [\"apple\", \"banana\", \"cherry\"]\n",
    "i = 0\n",
    "while i < len(thislist):\n",
    "  print(thislist[i])\n",
    "  i = i + 1"
   ]
  },
  {
   "cell_type": "code",
   "execution_count": 36,
   "id": "c259b80d",
   "metadata": {},
   "outputs": [
    {
     "name": "stdout",
     "output_type": "stream",
     "text": [
      "['apple', 'banana', 'cherry']\n"
     ]
    }
   ],
   "source": [
    "# contoh list comprehension\n",
    "thislists = [\"apple\", \"banana\", \"cherry\"]\n",
    "print([x for x in thislists])\n"
   ]
  }
 ],
 "metadata": {
  "kernelspec": {
   "display_name": "base",
   "language": "python",
   "name": "python3"
  },
  "language_info": {
   "codemirror_mode": {
    "name": "ipython",
    "version": 3
   },
   "file_extension": ".py",
   "mimetype": "text/x-python",
   "name": "python",
   "nbconvert_exporter": "python",
   "pygments_lexer": "ipython3",
   "version": "3.12.4"
  }
 },
 "nbformat": 4,
 "nbformat_minor": 5
}
