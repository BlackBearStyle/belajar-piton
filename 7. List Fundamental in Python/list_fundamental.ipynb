{
 "cells": [
  {
   "cell_type": "markdown",
   "id": "0e7c2fe6",
   "metadata": {},
   "source": [
    "# Python List\n",
    "\n",
    "\n",
    "# Penjelasan Python List\n",
    "\n",
    "**Python list** adalah salah satu struktur data built-in di Python yang digunakan untuk menyimpan **sekumpulan item dalam satu variabel**. List sangat fleksibel karena bisa berisi berbagai tipe data seperti angka, string, boolean, bahkan list lainnya.\n",
    "\n",
    "## Ciri-ciri Python List:\n",
    "- Dideklarasikan dengan **tanda kurung siku `[]`**.\n",
    "- Bisa berisi **elemen dari tipe data campuran**.\n",
    "- Bersifat **mutable** (bisa diubah setelah dibuat).\n",
    "- Mendukung operasi seperti **menambah, menghapus, mengakses, dan mengurutkan elemen**.\n",
    "\n",
    "## Contoh List:\n",
    "\n",
    "```python\n",
    "# List berisi angka\n",
    "angka = [1, 2, 3, 4, 5]\n",
    "\n",
    "# List berisi string\n",
    "buah = [\"apel\", \"jeruk\", \"mangga\"]\n",
    "\n",
    "# List campuran\n",
    "campuran = [1, \"dua\", 3.0, True]\n",
    "\n",
    "# List kosong\n",
    "kosong = []\n",
    "```\n",
    "\n",
    "## Operasi Umum:\n",
    "\n",
    "```python\n",
    "# Mengakses elemen (indeks dimulai dari 0)\n",
    "print(buah[0])  # Output: apel\n",
    "\n",
    "# Menambahkan elemen\n",
    "buah.append(\"pisang\")\n",
    "\n",
    "# Menghapus elemen\n",
    "buah.remove(\"jeruk\")\n",
    "\n",
    "# Mengubah elemen\n",
    "buah[1] = \"anggur\"\n",
    "\n",
    "# Panjang list\n",
    "print(len(buah))  # Output: 3\n",
    "```"
   ]
  },
  {
   "cell_type": "code",
   "execution_count": 1,
   "id": "94eca09d",
   "metadata": {},
   "outputs": [],
   "source": [
    "mylist = [\"faras\", \"Tata\", \"Fauziah\"]"
   ]
  },
  {
   "cell_type": "markdown",
   "id": "66f5f1b7",
   "metadata": {},
   "source": [
    "# boleh duplicate"
   ]
  },
  {
   "cell_type": "code",
   "execution_count": 2,
   "id": "10072d0c",
   "metadata": {},
   "outputs": [
    {
     "name": "stdout",
     "output_type": "stream",
     "text": [
      "['myskill', 'learning', 'portal', 'myskill', 'student']\n"
     ]
    }
   ],
   "source": [
    "mylists = [\"myskill\", \"learning\", \"portal\", \"myskill\", \"student\"]\n",
    "print(mylists)"
   ]
  },
  {
   "cell_type": "markdown",
   "id": "176f3c2c",
   "metadata": {},
   "source": [
    "# panjang list"
   ]
  },
  {
   "cell_type": "code",
   "execution_count": 3,
   "id": "b093cd94",
   "metadata": {},
   "outputs": [
    {
     "name": "stdout",
     "output_type": "stream",
     "text": [
      "5\n"
     ]
    }
   ],
   "source": [
    "print(len(mylists))"
   ]
  },
  {
   "cell_type": "markdown",
   "id": "5c09a0c4",
   "metadata": {},
   "source": [
    "# list boleh pake tipe data apa aja"
   ]
  },
  {
   "cell_type": "code",
   "execution_count": 4,
   "id": "9a3cfb57",
   "metadata": {},
   "outputs": [],
   "source": [
    "list1 = [\"Nisa\", \"Cantik\", \"Banget\"]\n",
    "list2 = [1, 2, 3, 4, 5]\n",
    "list3 = [True, False, False]"
   ]
  },
  {
   "cell_type": "code",
   "execution_count": 5,
   "id": "e44be75d",
   "metadata": {},
   "outputs": [],
   "source": [
    "lists = [\"MySkill\", 25, False, 23, \"student\"]"
   ]
  },
  {
   "cell_type": "markdown",
   "id": "253f48cc",
   "metadata": {},
   "source": [
    "# cara mengecek tipe list"
   ]
  },
  {
   "cell_type": "code",
   "execution_count": 6,
   "id": "40e24988",
   "metadata": {},
   "outputs": [
    {
     "name": "stdout",
     "output_type": "stream",
     "text": [
      "<class 'list'>\n"
     ]
    }
   ],
   "source": [
    "print(type(lists))"
   ]
  },
  {
   "cell_type": "markdown",
   "id": "112cd641",
   "metadata": {},
   "source": [
    "\n",
    "# List Konstruktor di Python\n",
    "\n",
    "List konstruktor adalah cara membuat list menggunakan fungsi bawaan Python bernama `list()`. Fungsi ini dapat mengubah tipe data iterable (seperti string, tuple, atau range) menjadi list.\n",
    "\n",
    "---\n",
    "\n",
    "## Penjelasan singkat:\n",
    "\n",
    "- `list()` adalah fungsi untuk membuat list baru.\n",
    "- Bisa dipakai tanpa argumen untuk membuat list kosong.\n",
    "- Bisa juga dipakai dengan argumen iterable untuk mengubahnya menjadi list.\n",
    "\n",
    "---\n",
    "\n",
    "## Contoh penggunaan list konstruktor:\n",
    "\n",
    "```python\n",
    "# Membuat list kosong\n",
    "kosong = list()\n",
    "print(kosong)  # Output: []\n",
    "\n",
    "# Mengubah string menjadi list karakter\n",
    "karakter = list(\"halo\")\n",
    "print(karakter)  # Output: ['h', 'a', 'l', 'o']\n",
    "\n",
    "# Mengubah tuple menjadi list\n",
    "tuple_data = (1, 2, 3)\n",
    "list_dari_tuple = list(tuple_data)\n",
    "print(list_dari_tuple)  # Output: [1, 2, 3]\n",
    "\n",
    "# Mengubah range menjadi list\n",
    "angka = list(range(5))\n",
    "print(angka)  # Output: [0, 1, 2, 3, 4]\n",
    "```\n",
    "\n",
    "---\n",
    "\n",
    "## Kenapa pakai list konstruktor?\n",
    "\n",
    "- Saat kamu ingin membuat list dari tipe data lain yang iterable.\n",
    "- Membuat list baru yang merupakan salinan dari list atau iterable lain (agar tidak memodifikasi data asli)."
   ]
  },
  {
   "cell_type": "code",
   "execution_count": 8,
   "id": "a4ca8968",
   "metadata": {},
   "outputs": [
    {
     "name": "stdout",
     "output_type": "stream",
     "text": [
      "['apps', 'os', 'version']\n",
      "['ayam', 'bebek', 'ikan']\n"
     ]
    }
   ],
   "source": [
    "mylist = list((\"apps\", \"os\", \"version\")) # hrs menggunakan double kurung siku\n",
    "print(mylist)\n",
    "\n",
    "tuple_nih = (\"ayam\", \"bebek\", \"ikan\")\n",
    "print(list(tuple_nih))"
   ]
  },
  {
   "cell_type": "markdown",
   "id": "367bb4c1",
   "metadata": {},
   "source": [
    "# list bisa di modikasi dengan index "
   ]
  },
  {
   "cell_type": "markdown",
   "id": "8780c168",
   "metadata": {},
   "source": [
    "## contoh akses index list"
   ]
  },
  {
   "cell_type": "code",
   "execution_count": 9,
   "id": "61e6ecfe",
   "metadata": {},
   "outputs": [
    {
     "name": "stdout",
     "output_type": "stream",
     "text": [
      "apps\n"
     ]
    }
   ],
   "source": [
    "print(mylist[0])"
   ]
  },
  {
   "cell_type": "markdown",
   "id": "8b47b843",
   "metadata": {},
   "source": [
    "## contoh akses list dengan nagative index"
   ]
  },
  {
   "cell_type": "code",
   "execution_count": 10,
   "id": "40cec96c",
   "metadata": {},
   "outputs": [
    {
     "name": "stdout",
     "output_type": "stream",
     "text": [
      "version\n"
     ]
    }
   ],
   "source": [
    "# akses list di bagian belakang\n",
    "print(mylist[-1])"
   ]
  },
  {
   "cell_type": "markdown",
   "id": "5e5f21a4",
   "metadata": {},
   "source": [
    "\n",
    "# Index dan Range di Python\n",
    "\n",
    "**Index** dan **range** adalah dua konsep yang sangat penting saat bekerja dengan list (atau struktur data sejenis) di Python.\n",
    "\n",
    "---\n",
    "\n",
    "## 1. Apa itu **Index**?\n",
    "\n",
    "**Index** adalah posisi atau alamat dari elemen dalam list. Di Python, index dimulai dari **0**.\n",
    "\n",
    "### Contoh:\n",
    "\n",
    "```python\n",
    "buah = [\"apel\", \"jeruk\", \"mangga\"]\n",
    "\n",
    "print(buah[0])  # Output: apel\n",
    "print(buah[1])  # Output: jeruk\n",
    "print(buah[2])  # Output: mangga\n",
    "```\n",
    "\n",
    "Kamu juga bisa pakai **index negatif** untuk menghitung dari belakang:\n",
    "\n",
    "```python\n",
    "print(buah[-1])  # Output: mangga\n",
    "print(buah[-2])  # Output: jeruk\n",
    "```\n",
    "\n",
    "---\n",
    "\n",
    "## 2. Apa itu **Range**?\n",
    "\n",
    "**Range** adalah fungsi (`range()`) yang menghasilkan urutan angka yang bisa diubah menjadi list, atau digunakan dalam perulangan (`for` loop).\n",
    "\n",
    "### Format fungsi:\n",
    "\n",
    "```python\n",
    "range(start, stop, step)\n",
    "```\n",
    "\n",
    "- `start`: angka awal (opsional, default = 0)\n",
    "- `stop`: angka akhir (tidak termasuk)\n",
    "- `step`: loncatan antar angka (opsional)\n",
    "\n",
    "### Contoh:\n",
    "\n",
    "```python\n",
    "print(list(range(5)))          # Output: [0, 1, 2, 3, 4]\n",
    "print(list(range(1, 6)))       # Output: [1, 2, 3, 4, 5]\n",
    "print(list(range(0, 10, 2)))   # Output: [0, 2, 4, 6, 8]\n",
    "```\n",
    "\n",
    "---\n",
    "\n",
    "## Gabungan Index dan Range\n",
    "\n",
    "Kita sering memakai **range()** untuk mengakses elemen list lewat index di loop:\n",
    "\n",
    "```python\n",
    "buah = [\"apel\", \"jeruk\", \"mangga\"]\n",
    "for i in range(len(buah)):\n",
    "    print(f\"Index {i} = {buah[i]}\")\n",
    "```\n",
    "\n",
    "### Output:\n",
    "```\n",
    "Index 0 = apel  \n",
    "Index 1 = jeruk  \n",
    "Index 2 = mangga\n",
    "```"
   ]
  },
  {
   "cell_type": "code",
   "execution_count": 13,
   "id": "22c57449",
   "metadata": {},
   "outputs": [
    {
     "name": "stdout",
     "output_type": "stream",
     "text": [
      "['apps', 'os', 'version']\n",
      "\n",
      "['os', 'version']\n",
      "\n",
      "['apps', 'os']\n",
      "\n",
      "['os', 'version']\n"
     ]
    }
   ],
   "source": [
    "print(mylist)\n",
    "print()\n",
    "print(mylist[1:4])\n",
    "print()\n",
    "print(mylist[:2])\n",
    "print()\n",
    "print(mylist[1:])"
   ]
  }
 ],
 "metadata": {
  "kernelspec": {
   "display_name": "base",
   "language": "python",
   "name": "python3"
  },
  "language_info": {
   "codemirror_mode": {
    "name": "ipython",
    "version": 3
   },
   "file_extension": ".py",
   "mimetype": "text/x-python",
   "name": "python",
   "nbconvert_exporter": "python",
   "pygments_lexer": "ipython3",
   "version": "3.12.4"
  }
 },
 "nbformat": 4,
 "nbformat_minor": 5
}
