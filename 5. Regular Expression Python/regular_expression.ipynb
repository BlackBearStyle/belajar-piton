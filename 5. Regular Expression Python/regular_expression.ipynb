{
 "cells": [
  {
   "cell_type": "markdown",
   "id": "63fa875e",
   "metadata": {},
   "source": [
    "# Regula Expression\n",
    "\n",
    "Regular expression (regex) adalah sebuah pola (pattern) yang digunakan untuk mencari, mencocokkan, dan memanipulasi teks berdasarkan aturan tertentu. Regex sering digunakan dalam pemrograman, pengolahan data, atau pencarian teks untuk menemukan string yang sesuai dengan pola tertentu."
   ]
  },
  {
   "cell_type": "code",
   "execution_count": 4,
   "id": "8f97504a",
   "metadata": {},
   "outputs": [
    {
     "name": "stdout",
     "output_type": "stream",
     "text": [
      "start index: 16\n",
      "end index: 19\n",
      "ipk : 18\n",
      "ipk : 21\n",
      "index pertama : 18\n"
     ]
    }
   ],
   "source": [
    "import re \n",
    "\n",
    "s = \"Myskill: portal for any learning path\"\n",
    "\n",
    "#match adalah tempat taro re search\n",
    "# ' ' kata yang ingin kita cari\n",
    "# tempat taro string yang kita cari\n",
    "\n",
    "match = re.search(r'for', s)\n",
    "# .start indeks awal pada string begitu end sebaliknya\n",
    "\n",
    "print(\"start index:\", match.start())\n",
    "print(\"end index:\", match.end())\n",
    "\n",
    "name = \"Aditya dengan ipk 350\"\n",
    "\n",
    "#Cari semua angka dalam teks: \\d+\n",
    "match = re.search(r'\\d+', name)\n",
    "print('ipk :', match.start())\n",
    "print('ipk :', match.end())\n",
    "\n",
    "a = \"hari ini gw ingin ke perpusnas\"\n",
    "print(\"index pertama :\", match.start())"
   ]
  },
  {
   "cell_type": "code",
   "execution_count": 10,
   "id": "ccbdbe64",
   "metadata": {},
   "outputs": [
    {
     "name": "stdout",
     "output_type": "stream",
     "text": [
      "index pertama : 50\n",
      "index terakhir : 52\n",
      "\n",
      "index pertama : 16\n",
      "index terakhir : 18\n",
      "index pertama : 5\n",
      "index terakhir : 10\n",
      "['10', '1997']\n"
     ]
    }
   ],
   "source": [
    "import re \n",
    "\n",
    "#Tapi dengan r'...', Python akan mengabaikan pengolahan escape character dan membiarkan string apa adanya.\n",
    "\n",
    "coba = \"hallo nama saya windardi, nomor rumah saya adalah 63\"\n",
    "match = re.search(r'\\d+', coba)\n",
    "print(\"index pertama :\", match.start())\n",
    "print(\"index terakhir :\", match.end())\n",
    "\n",
    "print()\n",
    "\n",
    "trial = \"saya lahir pada 10 april 1997\"\n",
    "match = re.search(r'\\d+', trial)\n",
    "print(\"index pertama :\", match.start())\n",
    "print(\"index terakhir :\", match.end())\n",
    "\n",
    "match = re.search(r'lahir', trial)\n",
    "print(\"index pertama :\", match.start())\n",
    "print(\"index terakhir :\", match.end())\n",
    "\n",
    "r = r'(\\d+)'\n",
    "match = re.findall(r, trial)\n",
    "print(match)"
   ]
  },
  {
   "cell_type": "markdown",
   "id": "5e0b0c61",
   "metadata": {},
   "source": [
    "# MetaCharacter\n",
    "Dalam regular expression (regex), metacharacters adalah karakter khusus yang punya arti khusus dan tidak dianggap sebagai teks biasa. Mereka digunakan untuk membentuk pola pencocokan.\n",
    "\n"
   ]
  },
  {
   "cell_type": "markdown",
   "id": "cf0595ca",
   "metadata": {},
   "source": [
    "## jenis jenis metacharacter\n",
    "\n",
    "### ✅ Daftar Metacharacters Umum di Regex:\n",
    "\n",
    "| Metachar | Arti                                                                                                                                                    |                         |                                 |\n",
    "| -------- | ------------------------------------------------------------------------------------------------------------------------------------------------------- | ----------------------- | ------------------------------- |\n",
    "| `.`      | Mewakili **1 karakter apa pun** (kecuali newline `\\n`)                                                                                                  |                         |                                 |\n",
    "| `^`      | Menandai **awal string**                                                                                                                                |                         |                                 |\n",
    "| `$`      | Menandai **akhir string**                                                                                                                               |                         |                                 |\n",
    "| `*`      | **0 atau lebih** dari karakter sebelumnya                                                                                                               |                         |                                 |\n",
    "| `+`      | **1 atau lebih** dari karakter sebelumnya                                                                                                               |                         |                                 |\n",
    "| `?`      | **0 atau 1** dari karakter sebelumnya (opsional)                                                                                                        |                         |                                 |\n",
    "| `[]`     | **Character class** – cocok dengan **salah satu karakter** di dalamnya, contoh: `[aeiou]`                                                               |                         |                                 |\n",
    "| \\`       | \\`                                                                                                                                                      | **Atau**, contoh: \\`cat | dog\\` cocokkan \"cat\" atau \"dog\" |\n",
    "| `()`     | **Grouping** dan menangkap subpattern                                                                                                                   |                         |                                 |\n",
    "| `\\`      | Escape character – digunakan untuk meloloskan metacharacter (misalnya `\\.` cocokkan titik literal) atau menggunakan kode khusus seperti `\\d`, `\\w`, dll |                         |                                 |\n",
    "\n",
    "\n",
    "### 🔢 Metacharacters Khusus (dengan \\)\n",
    "\n",
    "| Kode | Arti                                                            |\n",
    "| ---- | --------------------------------------------------------------- |\n",
    "| `\\d` | Digit (angka `0–9`)                                             |\n",
    "| `\\D` | Bukan digit                                                     |\n",
    "| `\\w` | Word character (`a-z`, `A-Z`, `0-9`, dan `_`)                   |\n",
    "| `\\W` | Bukan word character                                            |\n",
    "| `\\s` | Whitespace (spasi, tab, newline)                                |\n",
    "| `\\S` | Bukan whitespace                                                |\n",
    "| `\\b` | Word boundary (batas antara karakter dan spasi atau tanda baca) |\n",
    "| `\\B` | Bukan word boundary                                             |\n",
    "\n",
    "\n",
    "### 🛑 Jika kamu ingin mencocokkan metacharacter sebagai karakter biasa, kamu harus escape dengan \\\n",
    "\n",
    "Contoh:\n",
    "\n",
    "1. Pola \\. cocokkan titik .\n",
    "\n",
    "2. Pola \\* cocokkan bintang *"
   ]
  },
  {
   "cell_type": "code",
   "execution_count": 13,
   "id": "8c1ab3c4",
   "metadata": {},
   "outputs": [
    {
     "name": "stdout",
     "output_type": "stream",
     "text": [
      "<re.Match object; span=(0, 1), match='A'>\n",
      "<re.Match object; span=(14, 15), match='.'>\n"
     ]
    }
   ],
   "source": [
    "import re \n",
    "\n",
    "s = \"Adgan167@gmail.com\"\n",
    "\n",
    "# without using \\\n",
    "match = re.search(r'.', s)\n",
    "print(match)\n",
    "\n",
    "# using \\\n",
    "match = re.search(r'\\.', s)\n",
    "print(match)"
   ]
  },
  {
   "cell_type": "markdown",
   "id": "2335cab1",
   "metadata": {},
   "source": [
    "\n",
    "# Module Regex -re library"
   ]
  },
  {
   "cell_type": "markdown",
   "id": "08eb1d71",
   "metadata": {},
   "source": [
    "## re.findall()\n",
    "\n",
    "re.findall() adalah fungsi di Python dari modul re (regular expression) yang digunakan untuk:\n",
    "\n",
    "Menemukan semua kemunculan dari pola regex dalam sebuah string, lalu mengembalikannya sebagai daftar (list)."
   ]
  },
  {
   "cell_type": "code",
   "execution_count": null,
   "id": "b4d11126",
   "metadata": {},
   "outputs": [
    {
     "name": "stdout",
     "output_type": "stream",
     "text": [
      "['923472387', '234130324', '082298221785']\n"
     ]
    }
   ],
   "source": [
    "import re\n",
    "\n",
    "# A sample text string where regular expression\n",
    "# is searched.\n",
    "string = \"\"\"Hello my student id is 923472387 and\n",
    "            my friend's number student id Is 234130324\n",
    "            no telp aditya 082298221785\"\"\"\n",
    "\n",
    "\n",
    "# mencari angka atau digit di string text\n",
    "regex = r'\\d+'\n",
    "match = re.findall(regex, string)\n",
    "print(match)"
   ]
  },
  {
   "cell_type": "markdown",
   "id": "cb9f171f",
   "metadata": {},
   "source": [
    "## re.compile()\n",
    "\n",
    "re.compile() digunakan untuk membuat objek regex yang bisa digunakan berulang kali — fungsinya adalah mengompilasi pola regex sekali saja, lalu bisa dipakai beberapa kali dengan metode seperti .search(), .match(), atau .findall()."
   ]
  },
  {
   "cell_type": "code",
   "execution_count": 15,
   "id": "22435128",
   "metadata": {},
   "outputs": [
    {
     "name": "stdout",
     "output_type": "stream",
     "text": [
      "['A', 'd', 'a', 'a', 'a', 'a', 'a']\n"
     ]
    }
   ],
   "source": [
    "import re \n",
    "\n",
    "# compile() membuat ekspresi regular\n",
    "# kelas karakter [a-e],\n",
    "# yang setara dengan [abcde].\n",
    "# kelas [abcde] akan cocok dengan string yang\n",
    "# mengandung karakter 'a', 'b', 'c', 'd', atau 'e'.\n",
    "p = re.compile('[a-e]', flags=re.IGNORECASE)\n",
    "\n",
    "# findall() searches for the Regular Expression\n",
    "# and return a list upon finding\n",
    "print(p.findall(\"Aditya pramana putra\"))\n"
   ]
  },
  {
   "cell_type": "code",
   "execution_count": 21,
   "id": "3da8297d",
   "metadata": {},
   "outputs": [
    {
     "name": "stdout",
     "output_type": "stream",
     "text": [
      "['1', '1', '4', '1', '8', '8', '6']\n",
      "['11', '4', '1886']\n",
      "['11', '4', '1886']\n"
     ]
    }
   ],
   "source": [
    "# contoh kedua \n",
    "\n",
    "import re \n",
    "\n",
    "# \\d sama dengan [0 - 9]\n",
    "p = re.compile(r'\\d')\n",
    "print(p.findall(\"I went to him at 11 A.M. on 4th July 1886\"))\n",
    "\n",
    "# \\d+ akan sama dengan group di [0-9], group\n",
    "# di [0-9] akan mencari angka satu atau lebih\n",
    "p = re.compile(r'\\d+')\n",
    "print(p.findall(\"I went to him at 11 A.M. on 4th July 1886\"))\n",
    "print(p.findall(\"I went to him at 11 A.M. on 4th July 1886\"))"
   ]
  },
  {
   "cell_type": "markdown",
   "id": "136b6108",
   "metadata": {},
   "source": [
    "## re.split()\n",
    "\n",
    "re.split() adalah fungsi di modul re Python yang digunakan untuk:\n",
    "\n",
    "Memecah string berdasarkan pola regex tertentu, seperti split() biasa tapi lebih fleksibel karena bisa pakai pola kompleks.\n",
    "\n",
    "### ✅ Format Umum:\n",
    "\n",
    "`re.split(pattern, string)`\n",
    "\n",
    "1. pattern: pola regex yang digunakan sebagai pemisah\n",
    "\n",
    "2. string: teks yang akan dipecah\n",
    "\n",
    "### 🔍 Contoh 1: Pisahkan teks berdasarkan spasi\n",
    "```python\n",
    "import re\n",
    "\n",
    "teks = \"Ini contoh teks\"\n",
    "hasil = re.split(r'\\s+', teks)\n",
    "\n",
    "print(hasil)  # Output: ['Ini', 'contoh', 'teks']```\n",
    "\n",
    "* \\s+ = satu atau lebih spasi/tab/newline\n",
    "\n",
    "### 🔍 Contoh 2: Pisahkan berdasarkan koma atau titik koma\n",
    "\n",
    "```python\n",
    "teks = \"apel,jeruk;pisang\"\n",
    "hasil = re.split(r'[;,]', teks)\n",
    "\n",
    "print(hasil)  # Output: ['apel', 'jeruk', 'pisang']```\n",
    "\n",
    "* [;,] = cocokkan koma atau titik koma\n",
    "\n",
    "### 🔍 Contoh 3: Pisahkan dengan angka\n",
    "\n",
    "```python\n",
    "teks = \"halo123dunia45python\"\n",
    "hasil = re.split(r'\\d+', teks)\n",
    "\n",
    "print(hasil)  # Output: ['halo', 'dunia', 'python']```\n"
   ]
  },
  {
   "cell_type": "code",
   "execution_count": 23,
   "id": "f272855c",
   "metadata": {},
   "outputs": [
    {
     "name": "stdout",
     "output_type": "stream",
     "text": [
      "['Words', 'words', 'Words']\n",
      "['Word', 's', 'words', 'Words']\n",
      "['On', '12th', 'Jan', '2016', 'at', '11', '02', 'AM']\n",
      "['On ', 'th Jan ', ', at ', ':', ' AM']\n"
     ]
    }
   ],
   "source": [
    "from re import split\n",
    "\n",
    "# '\\W+' menunjukkan Karakter Non-Alfanumerik\n",
    "# atau sekumpulan karakter. Setelah menemukan ','\n",
    "# atau spasi ' ', fungsi split() akan memecah\n",
    "# string dari titik tersebut.\n",
    "\n",
    "print(split(r'\\W+', 'Words, words , Words'))\n",
    "print(split(r'\\W+', \"Word's words Words\"))\n",
    "\n",
    "# Here ':', ' ' ,',' are not AlphaNumeric thus,\n",
    "# the point where splitting occurs\n",
    "print(split(r'\\W+', 'On 12th Jan 2016, at 11:02 AM'))\n",
    "\n",
    "# '\\d+' denotes Numeric Characters or group of\n",
    "# characters Splitting occurs at '12', '2016',\n",
    "# '11', '02' only\n",
    "print(split(r'\\d+', 'On 12th Jan 2016, at 11:02 AM'))"
   ]
  },
  {
   "cell_type": "code",
   "execution_count": null,
   "id": "429e1340",
   "metadata": {},
   "outputs": [
    {
     "name": "stdout",
     "output_type": "stream",
     "text": [
      "['On ', 'th Jan 2016, at 11:02 AM']\n",
      "['On ', 'th Jan ', ', at ', ':', ' AM']\n",
      "['', 'y, ', 'oy oh ', 'oy, ', 'om', ' h', 'r', '']\n",
      "['A', 'y, Boy oh ', 'oy, ', 'om', ' h', 'r', '']\n"
     ]
    }
   ],
   "source": [
    "# Example 2\n",
    "\n",
    "import re\n",
    "\n",
    "# Pemisahan hanya akan terjadi sekali, pada\n",
    "# '12', daftar yang dikembalikan akan memiliki panjang 2.\n",
    "\n",
    "print(re.split(r'\\d+','On 12th Jan 2016, at 11:02 AM',1))\n",
    "print(re.split(r'\\d+','On 12th Jan 2016, at 11:02 AM'))\n",
    "#angka di ganti dengan split yang ingin kita tentukan dalam parameter\n",
    "\n",
    "# 'Boy' dan 'boy' akan diperlakukan sama ketika\n",
    "# flags = re.IGNORECASE\n",
    "print(re.split(r'[a-f]+', 'Aey, Boy oh boy, come here', flags=re.IGNORECASE))\n",
    "print(re.split(r'[a-f]+', 'Aey, Boy oh boy, come here'))"
   ]
  },
  {
   "cell_type": "markdown",
   "id": "a9a34c83",
   "metadata": {},
   "source": [
    "## re.sub()\n",
    "\n",
    "\n",
    "`re.sub()` adalah fungsi di Python dari modul `re` yang digunakan untuk:\n",
    "\n",
    "Mencari pola dalam string dan menggantinya dengan string yang baru.\n",
    "\n",
    "Fungsi ini sangat berguna untuk memanipulasi teks berdasarkan pola tertentu (misalnya mengganti semua angka dengan tanda `#`, atau mengganti kata tertentu).\n",
    "\n",
    "### ✅ Format Umum:\n",
    "```python\n",
    "re.sub(pattern, pengganti, string)\n",
    "```\n",
    "\n",
    "- `pattern`: Pola regex yang akan dicari.\n",
    "- `pengganti`: String pengganti untuk mengganti pola yang cocok.\n",
    "- `string`: Teks yang ingin diproses.\n",
    "\n",
    "### 🔍 Contoh 1: Ganti Semua Angka dengan Tanda `#`\n",
    "```python\n",
    "import re\n",
    "\n",
    "teks = \"Ada 3 apel dan 12 jeruk.\"\n",
    "hasil = re.sub(r'\\d+', '#', teks)\n",
    "\n",
    "print(hasil)  # Output: \"Ada # apel dan # jeruk.\"\n",
    "```\n",
    "Penjelasan:\n",
    "- `\\d+` cocok dengan angka (satu atau lebih digit).\n",
    "- Semua angka diganti dengan `#`.\n",
    "\n",
    "### 🔍 Contoh 2: Ganti Huruf Kecil dengan Huruf Besar\n",
    "```python\n",
    "teks = \"halo dunia\"\n",
    "hasil = re.sub(r'[a-z]', lambda x: x.group().upper(), teks)\n",
    "\n",
    "print(hasil)  # Output: \"HALO DUNIA\"\n",
    "```\n",
    "Penjelasan:\n",
    "- `[a-z]` cocok dengan huruf kecil.\n",
    "- Menggunakan fungsi lambda untuk mengganti huruf kecil dengan huruf besar.\n",
    "\n",
    "### 🔍 Contoh 3: Hapus Semua Tanda Baca\n",
    "```python\n",
    "teks = \"Halo! Apa kabar?\"\n",
    "hasil = re.sub(r'[^\\w\\s]', '', teks)\n",
    "\n",
    "print(hasil)  # Output: \"Halo Apa kabar\"\n",
    "```\n",
    "Penjelasan:\n",
    "- `[^\\w\\s]` cocok dengan semua karakter bukan huruf atau spasi.\n",
    "- Tanda baca dihapus.\n",
    "\n",
    "### 📌 Perbedaan `re.sub()` dan `str.replace()`:\n",
    "- `re.sub()` lebih fleksibel karena bisa menggunakan pola regex untuk mencari dan mengganti.\n",
    "- `str.replace()` hanya mengganti substring secara langsung tanpa menggunakan pola regex."
   ]
  },
  {
   "cell_type": "code",
   "execution_count": 27,
   "id": "c2c0d3ee",
   "metadata": {},
   "outputs": [
    {
     "name": "stdout",
     "output_type": "stream",
     "text": [
      "S~*ject has ~*er booked already\n",
      "S~*ject has Uber booked already\n",
      "S~*ject has Uber booked already\n",
      "Baked Beans & Spam\n",
      "Aditya adiTia pramana putra\n",
      "Aditya aditya pramana putra\n",
      "Aditya adiTia pramana putra\n"
     ]
    }
   ],
   "source": [
    "import re\n",
    "\n",
    "# Pola Regular Expression 'ub' mencocokkan string pada \"Subject\" dan \"Uber\". \n",
    "# Karena perbedaan huruf besar/kecil diabaikan menggunakan flag, \n",
    "# 'ub' akan mencocokkan dua kali dalam string tersebut.\n",
    "# Setelah mencocokkan, 'ub' diganti dengan '~*' pada \"Subject\", \n",
    "# dan pada \"Uber\", 'Ub' diganti.\n",
    "\n",
    "print(re.sub(r'ub', '~*', 'Subject has Uber booked already',\n",
    "             flags=re.IGNORECASE))\n",
    "\n",
    "# Consider the Case Sensitivity, 'Ub' in\n",
    "# \"Uber\", will not be replaced.\n",
    "print(re.sub(r'ub', '~*', 'Subject has Uber booked already'))\n",
    "\n",
    "# As count has been given value 1, the maximum\n",
    "# times replacement occurs is 1\n",
    "print(re.sub(r'ub', '~*', 'Subject has Uber booked already',\n",
    "             count=1, flags=re.IGNORECASE))\n",
    "\n",
    "# 'r' before the pattern denotes RE, \\s is for\n",
    "# start and end of a String.\n",
    "print(re.sub(r'\\sAND\\s', ' & ', 'Baked Beans And Spam',\n",
    "             flags=re.IGNORECASE))\n",
    "\n",
    "print(re.sub('ti','ty','Aditia adiTia pramana putra',count = 1,flags = re.IGNORECASE))\n",
    "print(re.sub(r'ti','ty','Aditia adiTia pramana putra',flags = re.IGNORECASE))\n",
    "print(re.sub(r'ti','ty','Aditia adiTia pramana putra'))"
   ]
  },
  {
   "cell_type": "markdown",
   "id": "1937b18a",
   "metadata": {},
   "source": [
    "# re.subn()\n",
    "\n",
    "\n",
    "# Penjelasan `re.subn()` dalam Python\n",
    "\n",
    "`re.subn()` adalah fungsi dari modul `re` di Python yang mirip dengan `re.sub()`, tetapi dengan **tambahan informasi jumlah penggantian yang terjadi**.\n",
    "\n",
    "## 📌 Perbedaan dengan `re.sub()`\n",
    "- `re.sub()` hanya mengembalikan string hasil penggantiannya.\n",
    "- `re.subn()` mengembalikan **tuple** berupa:\n",
    "  ```python\n",
    "  (hasil_string, jumlah_penggantian)\n",
    "  ```\n",
    "\n",
    "## ✅ Format Umum\n",
    "```python\n",
    "re.subn(pattern, pengganti, string)\n",
    "```\n",
    "\n",
    "- `pattern`: Pola regex yang dicari.\n",
    "- `pengganti`: String pengganti untuk mengganti pola.\n",
    "- `string`: Teks yang ingin diproses.\n",
    "\n",
    "## 🔍 Contoh Penggunaan\n",
    "```python\n",
    "import re\n",
    "\n",
    "teks = \"satu dua tiga dua dua\"\n",
    "hasil = re.subn(r'dua', 'empat', teks)\n",
    "\n",
    "print(hasil)\n",
    "# Output: ('satu empat tiga empat empat', 3)\n",
    "```\n",
    "\n",
    "### Penjelasan:\n",
    "- Semua kata `'dua'` diganti dengan `'empat'`.\n",
    "- Fungsi mengembalikan tuple:\n",
    "  - `'satu empat tiga empat empat'` → hasil string setelah penggantian.\n",
    "  - `3` → jumlah penggantian yang dilakukan.\n",
    "\n",
    "---\n",
    "\n",
    "Gunakan `re.subn()` jika kamu **perlu tahu berapa kali penggantian terjadi**, selain hanya mendapatkan hasil string."
   ]
  },
  {
   "cell_type": "code",
   "execution_count": null,
   "id": "68f827d7",
   "metadata": {},
   "outputs": [
    {
     "name": "stdout",
     "output_type": "stream",
     "text": [
      "('S~*ject has Uber booked already', 1)\n"
     ]
    }
   ],
   "source": [
    "import re \n",
    "\n",
    "print(re.subn('ub', '~*', 'Subject has Uber booked already'))\n",
    "\n",
    "t = re.subn('ub', '~*', 'Subject has Uber booked already',\n",
    "            flags=re.IGNORECASE)\n",
    "print(t)\n",
    "print(len(t))\n",
    "\n",
    "# This will give same output as sub() would have\n",
    "print(t[0])"
   ]
  }
 ],
 "metadata": {
  "kernelspec": {
   "display_name": "base",
   "language": "python",
   "name": "python3"
  },
  "language_info": {
   "codemirror_mode": {
    "name": "ipython",
    "version": 3
   },
   "file_extension": ".py",
   "mimetype": "text/x-python",
   "name": "python",
   "nbconvert_exporter": "python",
   "pygments_lexer": "ipython3",
   "version": "3.12.4"
  }
 },
 "nbformat": 4,
 "nbformat_minor": 5
}
