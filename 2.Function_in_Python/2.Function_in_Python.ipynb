{
 "cells": [
  {
   "cell_type": "markdown",
   "id": "d869c60d",
   "metadata": {},
   "source": [
    "# Python Function"
   ]
  },
  {
   "cell_type": "code",
   "execution_count": 1,
   "id": "6632c513",
   "metadata": {},
   "outputs": [
    {
     "name": "stdout",
     "output_type": "stream",
     "text": [
      "Selamat datang Brilly\n"
     ]
    }
   ],
   "source": [
    "def greet(name):\n",
    "    \"\"\"\n",
    "    fungsi ini menyampilkan pesan selamat datang\n",
    "    \"\"\"\n",
    "    print(f\"Selamat datang {name}\")\n",
    "\n",
    "greet(\"Brilly\")"
   ]
  },
  {
   "cell_type": "markdown",
   "id": "e26eeacf",
   "metadata": {},
   "source": [
    "# function Argument"
   ]
  },
  {
   "cell_type": "code",
   "execution_count": null,
   "id": "813a4d5b",
   "metadata": {},
   "outputs": [
    {
     "name": "stdout",
     "output_type": "stream",
     "text": [
      "Selamat datang, Brilly\n"
     ]
    }
   ],
   "source": [
    "def greet(name, msg):\n",
    "    \"\"\"\n",
    "    fungsi ini menyimpan pesan selamat datang\n",
    "    \"\"\"\n",
    "    print(f\"{msg}, {name}\")\n",
    "\n",
    "greet(\"Brilly\", \"Selamat datang\")"
   ]
  },
  {
   "cell_type": "code",
   "execution_count": 32,
   "id": "978e85bf",
   "metadata": {},
   "outputs": [
    {
     "name": "stdout",
     "output_type": "stream",
     "text": [
      "None\n"
     ]
    }
   ],
   "source": [
    "print(greet.__doc__)"
   ]
  },
  {
   "cell_type": "markdown",
   "id": "d45b5951",
   "metadata": {},
   "source": [
    "# function default argument\n",
    "\n",
    "Kita dapat memberikan nilai default ke argumen dengan menggunakan operator penugasan (=). Berikut adalah contoh.\n",
    "\n",
    "Sejumlah argumen dalam suatu fungsi dapat memiliki nilai default. Tetapi begitu kita memiliki argumen default, semua argumen di sebelah kanannya juga harus memiliki nilai default."
   ]
  },
  {
   "cell_type": "code",
   "execution_count": 35,
   "id": "ab4f248a",
   "metadata": {},
   "outputs": [
    {
     "name": "stdout",
     "output_type": "stream",
     "text": [
      "nama saya Brilly, Selamat datang\n",
      "nama saya Brilly, Selamat datang ke sini\n"
     ]
    }
   ],
   "source": [
    "def greet(name, msg=\"Selamat datang\"):\n",
    "    \"\"\"\n",
    "    fungsi ini menyimpan pesan selamat datang\n",
    "    fungsi ini adalah fungsi default function\n",
    "    \"\"\"\n",
    "    print(f\"nama saya {name}, {msg}\")\n",
    "\n",
    "greet(\"Brilly\")\n",
    "greet(\"Brilly\", \"Selamat datang ke sini\")"
   ]
  },
  {
   "cell_type": "markdown",
   "id": "54864f4c",
   "metadata": {},
   "source": [
    "# Python Keyword Arguments\n",
    "\n",
    "Saat kita memanggil fungsi dengan beberapa nilai, nilai-nilai ini ditugaskan ke argumen sesuai dengan posisinya.\n",
    "\n",
    "Sebagai contoh, pada fungsi di atas greet(), ketika kita menyebutnya sebagai greet(\"Bruce\", \"Bagaimana kabarmu?\"), nilai \"Bruce\" diberikan ke name argumen dan juga \"Bagaimana kabarmu? \" ke msg\n",
    "\n",
    "Python memungkinkan fungsi dipanggil menggunakan argumen kata kunci. Ketika kita memanggil fungsi dengan cara ini, urutan (posisi) argumen dapat diubah. Panggilan berikut ke fungsi di atas semuanya valid dan menghasilkan hasil yang sama."
   ]
  },
  {
   "cell_type": "code",
   "execution_count": 37,
   "id": "e0317cdf",
   "metadata": {},
   "outputs": [
    {
     "name": "stdout",
     "output_type": "stream",
     "text": [
      "nama saya Brilly, Selamat datang ke sini\n",
      "nama saya Brilly, Selamat datang ke sini\n",
      "nama saya Brilly, Selamat datang ke sini\n",
      "nama saya selamat datang, ayam\n"
     ]
    }
   ],
   "source": [
    "greet(name=\"Brilly\", msg=\"Selamat datang ke sini\")\n",
    "greet(msg=\"Selamat datang ke sini\", name=\"Brilly\")\n",
    "greet(\"Brilly\", msg=\"Selamat datang ke sini\")\n",
    "\n",
    "greet(\"selamat datang\", \"ayam\")"
   ]
  },
  {
   "cell_type": "markdown",
   "id": "92346a54",
   "metadata": {},
   "source": [
    "# Python Arbitary Arguments\n",
    "\n",
    "Terkadang, kita tidak mengetahui terlebih dahulu jumlah argumen yang akan dimasukkan ke dalam suatu fungsi. Python memungkinkan kita untuk menangani situasi semacam ini melalui pemanggilan fungsi dengan sejumlah argumen yang berubah-ubah.\n",
    "\n",
    "Dalam definisi fungsi, kita menggunakan tanda bintang (*) sebelum nama parameter untuk menunjukkan jenis argumen ini. Berikut adalah contoh."
   ]
  },
  {
   "cell_type": "code",
   "execution_count": 14,
   "id": "953e07a5",
   "metadata": {},
   "outputs": [
    {
     "name": "stdout",
     "output_type": "stream",
     "text": [
      "Selamat datang Brilly\n",
      "Selamat datang Budi\n",
      "Selamat datang Andi\n"
     ]
    }
   ],
   "source": [
    "def greet(*names):\n",
    "    for name in names:\n",
    "        print(f\"Selamat datang {name}\")\n",
    "\n",
    "greet(\"Brilly\", \"Budi\", \"Andi\")"
   ]
  },
  {
   "cell_type": "markdown",
   "id": "06a01f8f",
   "metadata": {},
   "source": [
    "# Python Recursive Function\n",
    "\n",
    "Berikut ini adalah contoh fungsi rekursif untuk mencari faktorial suatu bilangan bulat.\n",
    "\n",
    "Faktorial suatu bilangan adalah hasil kali semua bilangan bulat dari 1 sampai dengan bilangan tersebut. Misalnya, faktorial dari 6 (dilambangkan dengan 6!) adalah 1*2*3*4*5*6 = 720"
   ]
  },
  {
   "cell_type": "code",
   "execution_count": 16,
   "id": "ccd48120",
   "metadata": {},
   "outputs": [
    {
     "name": "stdout",
     "output_type": "stream",
     "text": [
      "Nilai faktorial 3 adalah 6\n"
     ]
    }
   ],
   "source": [
    "def factorial(x):\n",
    "    if x == 1:\n",
    "        return 1\n",
    "    else:\n",
    "        return x * factorial(x-1)\n",
    "\n",
    "num = 3\n",
    "print(f\"Nilai faktorial {num} adalah {factorial(num)}\")"
   ]
  },
  {
   "cell_type": "markdown",
   "id": "5f0a1499",
   "metadata": {},
   "source": [
    "# Anonymous Function"
   ]
  },
  {
   "cell_type": "code",
   "execution_count": 18,
   "id": "893cacb8",
   "metadata": {},
   "outputs": [
    {
     "name": "stdout",
     "output_type": "stream",
     "text": [
      "10\n"
     ]
    }
   ],
   "source": [
    "double = lambda x: x * 2\n",
    "print(double(5))"
   ]
  },
  {
   "cell_type": "markdown",
   "id": "69b83572",
   "metadata": {},
   "source": [
    "Kita menggunakan fungsi lambda ketika kita membutuhkan fungsi tanpa nama untuk waktu yang singkat.\n",
    "\n",
    "Dalam Python, kita biasanya menggunakannya sebagai argumen ke fungsi tingkat tinggi (fungsi yang menggunakan fungsi lain sebagai argumen). Fungsi Lambda digunakan bersama dengan fungsi bawaan seperti filter(), map() dll."
   ]
  },
  {
   "cell_type": "markdown",
   "id": "d71298a7",
   "metadata": {},
   "source": [
    "Fungsi filter() dalam Python mengambil fungsi dan list sebagai argumen.\n",
    "\n",
    "Fungsi dipanggil dengan semua item dalam list dan list baru dikembalikan yang berisi item yang fungsi dievaluasi ke True.\n",
    "\n",
    "Berikut adalah contoh penggunaan fungsi filter() untuk memfilter hanya angka genap dari list."
   ]
  },
  {
   "cell_type": "code",
   "execution_count": 20,
   "id": "6b9ec37a",
   "metadata": {},
   "outputs": [
    {
     "name": "stdout",
     "output_type": "stream",
     "text": [
      "[2, 4]\n"
     ]
    }
   ],
   "source": [
    "my_list = [1, 2, 3, 4, 5]\n",
    "new_list = list(filter(lambda x: x % 2 == 0, my_list))\n",
    "print(new_list)"
   ]
  },
  {
   "cell_type": "markdown",
   "id": "aec1f41d",
   "metadata": {},
   "source": [
    "Fungsi map() dalam Python mengambil fungsi dan list.\n",
    "\n",
    "Fungsi dipanggil dengan semua item dalam list dan list baru dikembalikan yang berisi item yang dikembalikan oleh fungsi itu untuk setiap item.\n",
    "\n",
    "Berikut adalah contoh penggunaan fungsi map() untuk menggandakan semua item dalam list."
   ]
  },
  {
   "cell_type": "code",
   "execution_count": 23,
   "id": "7a434988",
   "metadata": {},
   "outputs": [
    {
     "name": "stdout",
     "output_type": "stream",
     "text": [
      "[2, 4, 6, 8, 10]\n"
     ]
    }
   ],
   "source": [
    "my_list = [1, 2, 3, 4, 5]\n",
    "new_list = list(map(lambda x: x * 2, my_list))\n",
    "print(new_list)"
   ]
  },
  {
   "cell_type": "markdown",
   "id": "6edfadba",
   "metadata": {},
   "source": [
    "# Global, Local and Non-Local Variable"
   ]
  },
  {
   "cell_type": "code",
   "execution_count": 25,
   "id": "22793d23",
   "metadata": {},
   "outputs": [
    {
     "name": "stdout",
     "output_type": "stream",
     "text": [
      "x dalam global\n",
      "x luar global\n"
     ]
    }
   ],
   "source": [
    "x = \"global\"\n",
    "\n",
    "def foo():\n",
    "    print(\"x dalam\", x)\n",
    "\n",
    "foo()\n",
    "print(\"x luar\", x)"
   ]
  },
  {
   "cell_type": "markdown",
   "id": "e01bba77",
   "metadata": {},
   "source": [
    "Dalam kode di atas, kita membuat x sebagai variabel global dan mendefinisikan foo() untuk mencetak variabel global x. Terakhir, kita panggil foo() yang akan mencetak nilai x.\n",
    "\n",
    "\n",
    "Bagaimana jika kita ingin mengubah nilai x di dalam suatu fungsi?"
   ]
  },
  {
   "cell_type": "code",
   "execution_count": 28,
   "id": "f37fb0e1",
   "metadata": {},
   "outputs": [
    {
     "name": "stdout",
     "output_type": "stream",
     "text": [
      "globalglobal\n"
     ]
    }
   ],
   "source": [
    "x = \"global\"\n",
    "\n",
    "def foo():\n",
    "    #global variabel akses\n",
    "    global x\n",
    "    x = x * 2\n",
    "    print(x)\n",
    "\n",
    "foo()"
   ]
  },
  {
   "cell_type": "code",
   "execution_count": 30,
   "id": "103d5287",
   "metadata": {},
   "outputs": [
    {
     "name": "stdout",
     "output_type": "stream",
     "text": [
      "global global \n",
      "local\n"
     ]
    }
   ],
   "source": [
    "x = \"global \"\n",
    "\n",
    "def foo():\n",
    "    global x\n",
    "    y = \"local\"\n",
    "    x = x * 2\n",
    "    print(x)\n",
    "    print(y)\n",
    "\n",
    "foo()"
   ]
  },
  {
   "cell_type": "markdown",
   "id": "9f7c5f55",
   "metadata": {},
   "source": [
    "# Non Local Variable"
   ]
  },
  {
   "cell_type": "code",
   "execution_count": 31,
   "id": "78b27c76",
   "metadata": {},
   "outputs": [
    {
     "name": "stdout",
     "output_type": "stream",
     "text": [
      "inner: nonlocal\n",
      "outer: nonlocal\n"
     ]
    }
   ],
   "source": [
    "def outer():\n",
    "    x = \"local\"\n",
    "\n",
    "    def inner():\n",
    "        nonlocal x\n",
    "        x = \"nonlocal\"\n",
    "        print(\"inner:\", x)\n",
    "\n",
    "    inner()\n",
    "    print(\"outer:\", x)\n",
    "\n",
    "outer()"
   ]
  }
 ],
 "metadata": {
  "kernelspec": {
   "display_name": "base",
   "language": "python",
   "name": "python3"
  },
  "language_info": {
   "codemirror_mode": {
    "name": "ipython",
    "version": 3
   },
   "file_extension": ".py",
   "mimetype": "text/x-python",
   "name": "python",
   "nbconvert_exporter": "python",
   "pygments_lexer": "ipython3",
   "version": "3.12.4"
  }
 },
 "nbformat": 4,
 "nbformat_minor": 5
}
