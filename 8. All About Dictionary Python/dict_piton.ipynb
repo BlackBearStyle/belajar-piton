{
 "cells": [
  {
   "cell_type": "markdown",
   "id": "394247b2",
   "metadata": {},
   "source": [
    "# Definisi Dictionary \n",
    "\n",
    "`dict` (singkatan dari *dictionary*) di Python adalah **struktur data** yang menyimpan pasangan **key–value** (kunci–nilai), mirip seperti kamus di dunia nyata: kamu cari arti (value) berdasarkan kata (key).\n",
    "\n",
    "---\n",
    "\n",
    "## 🔑 Ciri-ciri `dict`:\n",
    "\n",
    "* Key harus **unik** dan **immutable** (tidak bisa diubah, misalnya: string, angka, tuple).\n",
    "* Value bisa **apa saja** (angka, string, list, dict lain, dll).\n",
    "* Tidak ada urutan pasti pada versi Python lama (<3.7), tapi sejak Python 3.7+, `dict` menjaga urutan input.\n",
    "\n",
    "---\n",
    "\n",
    "## 📦 Contoh dasar:\n",
    "\n",
    "```python\n",
    "data = {\n",
    "    \"nama\": \"Andi\",\n",
    "    \"umur\": 20,\n",
    "    \"hobi\": \"membaca\"\n",
    "}\n",
    "\n",
    "print(data[\"nama\"])  # Output: Andi\n",
    "```\n",
    "\n",
    "---\n",
    "\n",
    "## 🛠 Operasi dasar pada dict:\n",
    "\n",
    "### 1. **Mengakses nilai**:\n",
    "\n",
    "```python\n",
    "print(data[\"umur\"])        # 20\n",
    "print(data.get(\"hobi\"))    # membaca\n",
    "print(data.get(\"alamat\"))  # None (tidak error)\n",
    "```\n",
    "\n",
    "### 2. **Menambah atau mengubah**:\n",
    "\n",
    "```python\n",
    "data[\"alamat\"] = \"Bandung\"   # tambah key baru\n",
    "data[\"umur\"] = 21            # ubah nilai\n",
    "```\n",
    "\n",
    "### 3. **Menghapus key**:\n",
    "\n",
    "```python\n",
    "del data[\"hobi\"]          # hapus 1 key\n",
    "data.pop(\"umur\")          # hapus dan return nilainya\n",
    "```\n",
    "\n",
    "### 4. **Looping dict**:\n",
    "\n",
    "```python\n",
    "for key in data:\n",
    "    print(key, data[key])\n",
    "\n",
    "# atau\n",
    "\n",
    "for key, value in data.items():\n",
    "    print(f\"{key}: {value}\")\n",
    "```\n",
    "\n",
    "---\n",
    "\n",
    "## 🧰 Fungsi dan method penting:\n",
    "\n",
    "| Fungsi / Method     | Keterangan                                        |\n",
    "| ------------------- | ------------------------------------------------- |\n",
    "| `dict.keys()`       | Mengambil semua key                               |\n",
    "| `dict.values()`     | Mengambil semua value                             |\n",
    "| `dict.items()`      | Mengambil pasangan (key, value)                   |\n",
    "| `dict.get(k, dflt)` | Ambil nilai dari key, atau default jika tidak ada |\n",
    "| `dict.update()`     | Menambahkan/menggabungkan dict lain               |\n",
    "| `dict.pop(k)`       | Menghapus key dan return nilainya                 |\n",
    "\n",
    "---\n",
    "\n",
    "## 📚 Contoh kompleks:\n",
    "\n",
    "```python\n",
    "users = {\n",
    "    \"user1\": {\"nama\": \"Andi\", \"umur\": 21},\n",
    "    \"user2\": {\"nama\": \"Budi\", \"umur\": 25}\n",
    "}\n",
    "\n",
    "print(users[\"user1\"][\"nama\"])  # Andi\n",
    "```\n",
    "\n",
    "---\n",
    "\n",
    "## 🧪 Bisa juga buat dict dari list/tuple:\n",
    "\n",
    "```python\n",
    "data = dict([(\"a\", 1), (\"b\", 2)])\n",
    "print(data)  # {'a': 1, 'b': 2}\n",
    "```\n",
    "\n",
    "---\n",
    "\n",
    "Kalau kamu ingin tahu lebih dalam (misal nested dict, dict comprehension, atau dict vs list — kapan pakai yang mana), aku bisa bantu juga. Mau lanjut ke situ?\n"
   ]
  },
  {
   "cell_type": "code",
   "execution_count": 2,
   "id": "c5df21a4",
   "metadata": {},
   "outputs": [
    {
     "name": "stdout",
     "output_type": "stream",
     "text": [
      "{'a': 1, 'b': 2, 'c': 3}\n"
     ]
    }
   ],
   "source": [
    "dicts = {\n",
    "    \"a\": 1,\n",
    "    \"b\": 2,\n",
    "    \"c\": 3\n",
    "}\n",
    "print(dicts)"
   ]
  },
  {
   "cell_type": "code",
   "execution_count": 3,
   "id": "6e202fa2",
   "metadata": {},
   "outputs": [
    {
     "name": "stdout",
     "output_type": "stream",
     "text": [
      "{'Colorado': 'Rockies', 'Boston': 'Red Sox', 'Minnesota': 'Twins', 'Milwaukee': 'Brewers', 'Seattle': 'Mariners'}\n"
     ]
    }
   ],
   "source": [
    "# dict from tuple\n",
    "sport_team = dict([\n",
    "    ('Colorado', 'Rockies'),\n",
    "    ('Boston', 'Red Sox'),\n",
    "    ('Minnesota', 'Twins'),\n",
    "    ('Milwaukee', 'Brewers'),\n",
    "    ('Seattle', 'Mariners')\n",
    "])\n",
    "print(sport_team)"
   ]
  },
  {
   "cell_type": "code",
   "execution_count": 4,
   "id": "243d4b3e",
   "metadata": {},
   "outputs": [
    {
     "name": "stdout",
     "output_type": "stream",
     "text": [
      "{'Colorado': 'Rockies', 'Boston': 'Red Sox', 'Minnesota': 'Twins', 'Milwaukee': 'Brewers', 'Seattle': 'Mariners'}\n"
     ]
    }
   ],
   "source": [
    "# dict from key-value\n",
    "sport_team = dict(\n",
    "    Colorado='Rockies',\n",
    "    Boston='Red Sox',\n",
    "    Minnesota='Twins',\n",
    "    Milwaukee='Brewers',\n",
    "    Seattle='Mariners'\n",
    ")\n",
    "print(sport_team)"
   ]
  },
  {
   "cell_type": "code",
   "execution_count": 7,
   "id": "4d8823cb",
   "metadata": {},
   "outputs": [
    {
     "name": "stdout",
     "output_type": "stream",
     "text": [
      "{'Colorado': 'Rockies', 'Boston': 'Red Sox', 'Minnesota': 'Twins', 'Milwaukee': 'Brewers', 'Seattle': 'Mariners'}\n",
      "item not found\n"
     ]
    }
   ],
   "source": [
    "# dict harus diakses dengan kunci nya\n",
    "print(sport_team)\n",
    "#kalau kagak ada kunci nya bakalan error\n",
    "# sport_team[1]\n",
    "#solusi agar error bisa di solve\n",
    "try:\n",
    "    print(sport_team[1])\n",
    "except KeyError:\n",
    "    print(\"item not found\")"
   ]
  },
  {
   "cell_type": "markdown",
   "id": "d701b863",
   "metadata": {},
   "source": [
    "\n",
    "\n",
    "```\n",
    "# This is formatted as code\n",
    "```\n",
    "\n",
    "[] access by square bracket"
   ]
  },
  {
   "cell_type": "code",
   "execution_count": 8,
   "id": "cdaa64fd",
   "metadata": {},
   "outputs": [
    {
     "name": "stdout",
     "output_type": "stream",
     "text": [
      "Twins\n",
      "Rockies\n"
     ]
    }
   ],
   "source": [
    "print(sport_team['Minnesota'])\n",
    "print(sport_team['Colorado'])"
   ]
  },
  {
   "cell_type": "code",
   "execution_count": 9,
   "id": "67e84f20",
   "metadata": {},
   "outputs": [
    {
     "name": "stdout",
     "output_type": "stream",
     "text": [
      "{'Colorado': 'Rockies', 'Boston': 'Red Sox', 'Minnesota': 'Twins', 'Milwaukee': 'Brewers', 'Seattle': 'Mariners', 'Kansas City': 'Royals'}\n",
      "{'Colorado': 'Rockies', 'Boston': 'Red Sox', 'Minnesota': 'Twins', 'Milwaukee': 'Brewers', 'Seattle': 'Seahawks', 'Kansas City': 'Royals'}\n"
     ]
    }
   ],
   "source": [
    "# nambah element baru di dict \n",
    "sport_team['Kansas City'] = 'Royals'\n",
    "print(sport_team)\n",
    "sport_team['Seattle'] = 'Seahawks'\n",
    "print(sport_team)"
   ]
  },
  {
   "cell_type": "code",
   "execution_count": 10,
   "id": "e6c20299",
   "metadata": {},
   "outputs": [
    {
     "name": "stdout",
     "output_type": "stream",
     "text": [
      "{'Colorado': 'Rockies', 'Boston': 'Red Sox', 'Minnesota': 'Twins', 'Milwaukee': 'Brewers', 'Kansas City': 'Royals'}\n"
     ]
    }
   ],
   "source": [
    "# delete element di dict\n",
    "del sport_team['Seattle']\n",
    "print(sport_team)"
   ]
  },
  {
   "cell_type": "markdown",
   "id": "882138c9",
   "metadata": {},
   "source": [
    "# Dictionary key vs List Indexing"
   ]
  },
  {
   "cell_type": "code",
   "execution_count": 11,
   "id": "66d990d9",
   "metadata": {},
   "outputs": [
    {
     "ename": "KeyError",
     "evalue": "'Toronto'",
     "output_type": "error",
     "traceback": [
      "\u001b[0;31m---------------------------------------------------------------------------\u001b[0m",
      "\u001b[0;31mKeyError\u001b[0m                                  Traceback (most recent call last)",
      "Cell \u001b[0;32mIn[11], line 1\u001b[0m\n\u001b[0;32m----> 1\u001b[0m sport_team[\u001b[38;5;124m'\u001b[39m\u001b[38;5;124mToronto\u001b[39m\u001b[38;5;124m'\u001b[39m]\n",
      "\u001b[0;31mKeyError\u001b[0m: 'Toronto'"
     ]
    }
   ],
   "source": [
    "sport_team['Toronto']"
   ]
  },
  {
   "cell_type": "code",
   "execution_count": 12,
   "id": "d5c81ab5",
   "metadata": {},
   "outputs": [
    {
     "ename": "KeyError",
     "evalue": "1",
     "output_type": "error",
     "traceback": [
      "\u001b[0;31m---------------------------------------------------------------------------\u001b[0m",
      "\u001b[0;31mKeyError\u001b[0m                                  Traceback (most recent call last)",
      "Cell \u001b[0;32mIn[12], line 1\u001b[0m\n\u001b[0;32m----> 1\u001b[0m sport_team[\u001b[38;5;241m1\u001b[39m]\n",
      "\u001b[0;31mKeyError\u001b[0m: 1"
     ]
    }
   ],
   "source": [
    "sport_team[1]"
   ]
  },
  {
   "cell_type": "markdown",
   "id": "a49e35d9",
   "metadata": {},
   "source": [
    "Faktanya, itu adalah kesalahan yang sama. Dalam kasus terakhir, [1] terlihat seperti indeks numerik, tetapi tidak.\n",
    "\n",
    "Anda akan melihat nanti dalam tutorial ini bahwa objek dari jenis apa pun yang tidak dapat diubah dapat digunakan sebagai kunci dictionary. Oleh karena itu, tidak ada alasan Anda tidak dapat menggunakan bilangan bulat"
   ]
  },
  {
   "cell_type": "code",
   "execution_count": null,
   "id": "3b9838f6",
   "metadata": {},
   "outputs": [
    {
     "name": "stdout",
     "output_type": "stream",
     "text": [
      "{0: 'a', 1: 'b', 2: 'c', 3: 'd'}\n",
      "a\n",
      "c\n"
     ]
    }
   ],
   "source": [
    "# karna dict itu sama kek json, harus di akses dengan key nya\n",
    "d = {0: 'a', 1: 'b', 2: 'c', 3: 'd'}\n",
    "print(d)\n",
    "\n",
    "\n",
    "print(d[0])\n",
    "\n",
    "print(d[2])"
   ]
  },
  {
   "cell_type": "markdown",
   "id": "81cf0838",
   "metadata": {},
   "source": [
    "Dalam ekspresi sport_team[1], d[0], dan d[2], angka-angka dalam tanda kurung siku tampak seperti indeks. Tetapi mereka tidak ada hubungannya dengan urutan item dalam dictionary. Python menafsirkannya sebagai kunci dictionary. Jika Anda mendefinisikan dict yang sama ini dalam urutan terbalik, Anda masih mendapatkan nilai yang sama menggunakan kunci yang sama"
   ]
  },
  {
   "cell_type": "code",
   "execution_count": 14,
   "id": "507e520a",
   "metadata": {},
   "outputs": [
    {
     "name": "stdout",
     "output_type": "stream",
     "text": [
      "{3: 'd', 2: 'c', 1: 'b', 0: 'a'}\n",
      "a\n",
      "c\n"
     ]
    }
   ],
   "source": [
    "d = {3: 'd', 2: 'c', 1: 'b', 0: 'a'}\n",
    "print(d)\n",
    "\n",
    "\n",
    "print(d[0])\n",
    "\n",
    "print(d[2])"
   ]
  },
  {
   "cell_type": "markdown",
   "id": "00334456",
   "metadata": {},
   "source": [
    "# Building a Dictionary Incrementally\n",
    "\n",
    "**\"Building a dictionary incrementally\"** artinya **membuat dictionary secara bertahap**, yaitu **menambahkan pasangan key–value satu per satu**, bukan langsung sekaligus.\n",
    "\n",
    "Ini berguna kalau:\n",
    "\n",
    "* Kamu belum tahu semua data di awal.\n",
    "* Data dikumpulkan sambil jalan (misalnya dari loop, input, atau perhitungan).\n",
    "\n",
    "---\n",
    "\n",
    "## 🧱 Contoh sederhana:\n",
    "\n",
    "### ✅ Membuat dictionary kosong dulu:\n",
    "\n",
    "```python\n",
    "data = {}\n",
    "```\n",
    "\n",
    "### ➕ Menambahkan isi satu per satu:\n",
    "\n",
    "```python\n",
    "data[\"nama\"] = \"Andi\"\n",
    "data[\"umur\"] = 21\n",
    "data[\"kota\"] = \"Bandung\"\n",
    "\n",
    "print(data)\n",
    "# Output: {'nama': 'Andi', 'umur': 21, 'kota': 'Bandung'}\n",
    "```\n",
    "\n",
    "---\n",
    "\n",
    "## 🔁 Contoh dari loop:\n",
    "\n",
    "Misalnya kamu mau menghitung berapa kali setiap huruf muncul di kata:\n",
    "\n",
    "```python\n",
    "kata = \"python\"\n",
    "frekuensi = {}\n",
    "\n",
    "for huruf in kata:\n",
    "    frekuensi[huruf] = frekuensi.get(huruf, 0) + 1\n",
    "\n",
    "print(frekuensi)\n",
    "# Output: {'p': 1, 'y': 1, 't': 1, 'h': 1, 'o': 1, 'n': 1}\n",
    "```\n",
    "\n",
    "> Di sini, dictionary `frekuensi` dibangun **incrementally** setiap kali loop menambahkan huruf.\n",
    "\n",
    "---\n",
    "\n",
    "## ⚙️ Kapan ini berguna?\n",
    "\n",
    "* Mengelompokkan data\n",
    "* Membuat index\n",
    "* Menyusun konfigurasi dinamis\n",
    "* Mengisi data dari input atau file satu per satu\n",
    "\n",
    "---\n",
    "\n",
    "## ✍️ Kesimpulan\n",
    "\n",
    "**Building a dictionary incrementally** = mulai dari dict kosong → tambahkan elemen satu per satu sesuai kebutuhan.\n",
    "\n",
    "Kalau kamu mau contoh implementasi dari kasus nyata (misalnya: data siswa, log pengunjung, dll), bisa aku bantu juga. Mau dicontohin?\n"
   ]
  },
  {
   "cell_type": "code",
   "execution_count": 15,
   "id": "c96aeea2",
   "metadata": {},
   "outputs": [],
   "source": [
    "person = {}\n",
    "type(person)\n",
    "\n",
    "\n",
    "person['fname'] = 'Joe'\n",
    "person['lname'] = 'Fonebone'\n",
    "person['age'] = 51\n",
    "person['spouse'] = 'Edna'\n",
    "person['children'] = ['Ralph', 'Betty', 'Joey']\n",
    "person['pets'] = {'dog': 'Fido', 'cat': 'Sox'}"
   ]
  },
  {
   "cell_type": "code",
   "execution_count": 16,
   "id": "776fc4b8",
   "metadata": {},
   "outputs": [
    {
     "name": "stdout",
     "output_type": "stream",
     "text": [
      "{'fname': 'Joe', 'lname': 'Fonebone', 'age': 51, 'spouse': 'Edna', 'children': ['Ralph', 'Betty', 'Joey'], 'pets': {'dog': 'Fido', 'cat': 'Sox'}}\n",
      "Joe\n",
      "51\n",
      "['Ralph', 'Betty', 'Joey']\n"
     ]
    }
   ],
   "source": [
    "print(person)\n",
    "\n",
    "\n",
    "\n",
    "print(person['fname'])\n",
    "\n",
    "print(person['age'])\n",
    "\n",
    "print(person['children'])\n"
   ]
  },
  {
   "cell_type": "markdown",
   "id": "c22c6d01",
   "metadata": {},
   "source": [
    "Mengambil nilai dalam sublist atau subdictionary memerlukan indeks atau kunci tambahan"
   ]
  },
  {
   "cell_type": "code",
   "execution_count": 19,
   "id": "643d49f9",
   "metadata": {},
   "outputs": [
    {
     "name": "stdout",
     "output_type": "stream",
     "text": [
      "Joey\n",
      "['Ralph', 'Betty', 'Joey']\n",
      "Sox\n"
     ]
    }
   ],
   "source": [
    "# ini dicombo dengan list, isi dict itu list, jadi akses nya begini\n",
    "print(person['children'][-1])\n",
    "print(person['children'][:])\n",
    "\n",
    "print(person['pets']['cat'])"
   ]
  },
  {
   "cell_type": "markdown",
   "id": "69efe737",
   "metadata": {},
   "source": [
    "Contoh ini menunjukkan fitur lain dari dict: nilai yang terkandung dalam dict tidak harus bertipe sama. Secara pribadi, beberapa nilai adalah string, satu adalah bilangan bulat, satu adalah daftar, dan satu lagi adalah dict.\n",
    "\n",
    "Sama seperti nilai dalam dict tidak harus bertipe sama, kuncinya juga tidak"
   ]
  },
  {
   "cell_type": "code",
   "execution_count": 20,
   "id": "c87590cb",
   "metadata": {},
   "outputs": [
    {
     "name": "stdout",
     "output_type": "stream",
     "text": [
      "{42: 'aaa', 2.78: 'bbb', True: 'ccc'}\n",
      "aaa\n",
      "bbb\n",
      "ccc\n"
     ]
    }
   ],
   "source": [
    "foo = {42: 'aaa', 2.78: 'bbb', True: 'ccc'}\n",
    "print(foo)\n",
    "\n",
    "\n",
    "print(foo[42])\n",
    "\n",
    "print(foo[2.78])\n",
    "\n",
    "print(foo[True])"
   ]
  },
  {
   "cell_type": "markdown",
   "id": "ed09368d",
   "metadata": {},
   "source": [
    "Di sini, salah satu kuncinya adalah bilangan bulat, satu adalah float, dan satu lagi adalah Boolean. Tidak jelas bagaimana ini akan berguna, tetapi Anda tidak pernah tahu.\n",
    "\n",
    "Perhatikan betapa serbagunanya dict Python. Di sport_team, informasi yang sama (nama tim bisbol) disimpan untuk masing-masing dari beberapa lokasi geografis yang berbeda. orang, di sisi lain, menyimpan berbagai jenis data untuk satu orang.\n",
    "\n",
    "Anda dapat menggunakan dict untuk berbagai tujuan karena hanya ada sedikit batasan pada kunci dan nilai yang diizinkan."
   ]
  },
  {
   "cell_type": "markdown",
   "id": "fe175ddc",
   "metadata": {},
   "source": [
    "# Restriction in Key Dictionary"
   ]
  },
  {
   "cell_type": "code",
   "execution_count": 21,
   "id": "f246ff65",
   "metadata": {},
   "outputs": [],
   "source": [
    "foo = {42: 'aaa', 2.78: 'bbb', True: 'ccc'}\n",
    "\n",
    "d = {int: 1, float: 2, bool: 3}\n",
    "\n",
    "d = {bin: 1, hex: 2, oct: 3}"
   ]
  },
  {
   "cell_type": "code",
   "execution_count": 23,
   "id": "d3cde785",
   "metadata": {},
   "outputs": [
    {
     "name": "stdout",
     "output_type": "stream",
     "text": [
      "{42: 'bbb'}\n"
     ]
    },
    {
     "data": {
      "text/plain": [
       "{'Colorado': 'Rockies',\n",
       " 'Boston': 'Red Sox',\n",
       " 'Minnesota': 'Twins',\n",
       " 'Milwaukee': 'Brewers',\n",
       " 'Seattle': 'Mariners'}"
      ]
     },
     "execution_count": 23,
     "metadata": {},
     "output_type": "execute_result"
    }
   ],
   "source": [
    "# key dict itu harus unique\n",
    "foo = {42: 'aaa', 42: 'bbb'}\n",
    "print(foo)\n",
    "\n",
    "sport_team = {\n",
    "    'Colorado' : 'Rockies',\n",
    "    'Boston'   : 'Red Sox',\n",
    "    'Minnesota': 'Timberwolves',\n",
    "    'Milwaukee': 'Brewers',\n",
    "    'Seattle'  : 'Mariners',\n",
    "    'Minnesota': 'Twins'\n",
    "}\n",
    "sport_team"
   ]
  },
  {
   "cell_type": "code",
   "execution_count": 24,
   "id": "8b0d8192",
   "metadata": {},
   "outputs": [
    {
     "data": {
      "text/plain": [
       "'c'"
      ]
     },
     "execution_count": 24,
     "metadata": {},
     "output_type": "execute_result"
    }
   ],
   "source": [
    "# key dict itu harus kagak bisa di rubah\n",
    "d = {(1, 1): 'a', (1, 2): 'b', (2, 1): 'c', (2, 2): 'd'}\n",
    "d[(1,1)]\n",
    "\n",
    "d[(2,1)]\n"
   ]
  },
  {
   "cell_type": "code",
   "execution_count": null,
   "id": "762c5663",
   "metadata": {},
   "outputs": [
    {
     "ename": "TypeError",
     "evalue": "unhashable type: 'list'",
     "output_type": "error",
     "traceback": [
      "\u001b[0;31m---------------------------------------------------------------------------\u001b[0m",
      "\u001b[0;31mTypeError\u001b[0m                                 Traceback (most recent call last)",
      "Cell \u001b[0;32mIn[25], line 1\u001b[0m\n\u001b[0;32m----> 1\u001b[0m d \u001b[38;5;241m=\u001b[39m {[\u001b[38;5;241m1\u001b[39m, \u001b[38;5;241m1\u001b[39m]: \u001b[38;5;124m'\u001b[39m\u001b[38;5;124ma\u001b[39m\u001b[38;5;124m'\u001b[39m, [\u001b[38;5;241m1\u001b[39m, \u001b[38;5;241m2\u001b[39m]: \u001b[38;5;124m'\u001b[39m\u001b[38;5;124mb\u001b[39m\u001b[38;5;124m'\u001b[39m, [\u001b[38;5;241m2\u001b[39m, \u001b[38;5;241m1\u001b[39m]: \u001b[38;5;124m'\u001b[39m\u001b[38;5;124mc\u001b[39m\u001b[38;5;124m'\u001b[39m, [\u001b[38;5;241m2\u001b[39m, \u001b[38;5;241m2\u001b[39m]: \u001b[38;5;124m'\u001b[39m\u001b[38;5;124md\u001b[39m\u001b[38;5;124m'\u001b[39m}\n",
      "\u001b[0;31mTypeError\u001b[0m: unhashable type: 'list'"
     ]
    }
   ],
   "source": [
    "# kalau list itu kagak bisa di rubah\n",
    "d = {[1, 1]: 'a', [1, 2]: 'b', [2, 1]: 'c', [2, 2]: 'd'}"
   ]
  },
  {
   "cell_type": "markdown",
   "id": "8c9b4a11",
   "metadata": {},
   "source": [
    "# restriction in value dictionary"
   ]
  },
  {
   "cell_type": "code",
   "execution_count": 26,
   "id": "baf44ce1",
   "metadata": {},
   "outputs": [
    {
     "data": {
      "text/plain": [
       "True"
      ]
     },
     "execution_count": 26,
     "metadata": {},
     "output_type": "execute_result"
    }
   ],
   "source": [
    "d = {0: 'a', 1: 'a', 2: 'a', 3: 'a'}\n",
    "d\n",
    "\n",
    "d[0] == d[1] == d[2]\n"
   ]
  },
  {
   "cell_type": "markdown",
   "id": "5bfe5888",
   "metadata": {},
   "source": [
    "\n",
    "\n",
    "## 🧰 Built-in Dictionary Methods\n",
    "\n",
    "| Method              | Keterangan Singkat                                               |\n",
    "| ------------------- | ---------------------------------------------------------------- |\n",
    "| `dict.clear()`      | Menghapus semua item dari dictionary                             |\n",
    "| `dict.copy()`       | Mengembalikan salinan (copy) dari dictionary                     |\n",
    "| `dict.get(key)`     | Mengambil nilai dari key, atau `None` jika tidak ada             |\n",
    "| `dict.items()`      | Mengembalikan view semua pasangan `(key, value)`                 |\n",
    "| `dict.keys()`       | Mengembalikan view dari semua key                                |\n",
    "| `dict.pop(key)`     | Menghapus key dan mengembalikan nilainya                         |\n",
    "| `dict.popitem()`    | Menghapus dan mengembalikan pasangan terakhir (sejak Python 3.7) |\n",
    "| `dict.setdefault()` | Ambil nilai key, atau set default jika belum ada                 |\n",
    "| `dict.update()`     | Menambahkan item dari dict lain atau pasangan key-value          |\n",
    "| `dict.values()`     | Mengembalikan view dari semua nilai                              |\n",
    "| `dict.fromkeys()`   | Membuat dict baru dari daftar key dan nilai default              |\n",
    "\n",
    "---\n",
    "\n",
    "## 🔍 Penjelasan dan Contoh\n",
    "\n",
    "### 1. `clear()`\n",
    "\n",
    "Menghapus seluruh isi dictionary.\n",
    "\n",
    "```python\n",
    "d = {'a': 1, 'b': 2}\n",
    "d.clear()\n",
    "print(d)  # {}\n",
    "```\n",
    "\n",
    "---\n",
    "\n",
    "### 2. `copy()`\n",
    "\n",
    "Menghasilkan salinan shallow (tidak deep copy).\n",
    "\n",
    "```python\n",
    "d1 = {'x': 10}\n",
    "d2 = d1.copy()\n",
    "print(d2)  # {'x': 10}\n",
    "```\n",
    "\n",
    "---\n",
    "\n",
    "### 3. `get(key, default=None)`\n",
    "\n",
    "Lebih aman dari `d[key]` karena tidak error jika key tidak ditemukan.\n",
    "\n",
    "```python\n",
    "d = {'a': 1}\n",
    "print(d.get('a'))       # 1\n",
    "print(d.get('z', 0))    # 0 (default)\n",
    "```\n",
    "\n",
    "---\n",
    "\n",
    "### 4. `items()`, `keys()`, `values()`\n",
    "\n",
    "```python\n",
    "d = {'a': 1, 'b': 2}\n",
    "\n",
    "print(d.items())   # dict_items([('a', 1), ('b', 2)])\n",
    "print(d.keys())    # dict_keys(['a', 'b'])\n",
    "print(d.values())  # dict_values([1, 2])\n",
    "```\n",
    "\n",
    "---\n",
    "\n",
    "### 5. `pop(key, default)`\n",
    "\n",
    "Menghapus dan mengembalikan nilai dari key.\n",
    "\n",
    "```python\n",
    "d = {'a': 10, 'b': 20}\n",
    "print(d.pop('a'))      # 10\n",
    "print(d)               # {'b': 20}\n",
    "```\n",
    "\n",
    "---\n",
    "\n",
    "### 6. `popitem()`\n",
    "\n",
    "Menghapus dan mengembalikan item terakhir (key, value). Sejak Python 3.7 → LIFO (terakhir masuk, pertama keluar).\n",
    "\n",
    "```python\n",
    "d = {'x': 1, 'y': 2}\n",
    "print(d.popitem())     # ('y', 2)\n",
    "```\n",
    "\n",
    "---\n",
    "\n",
    "### 7. `setdefault(key, default)`\n",
    "\n",
    "Mirip dengan `get()`, tapi juga menambahkan key jika belum ada.\n",
    "\n",
    "```python\n",
    "d = {'a': 100}\n",
    "d.setdefault('b', 200)  # akan menambahkan key 'b'\n",
    "print(d)  # {'a': 100, 'b': 200}\n",
    "```\n",
    "\n",
    "---\n",
    "\n",
    "### 8. `update()`\n",
    "\n",
    "Menambahkan/menimpa isi dictionary dari dict lain atau argumen key-value.\n",
    "\n",
    "```python\n",
    "d = {'a': 1}\n",
    "d.update({'b': 2, 'c': 3})\n",
    "print(d)  # {'a': 1, 'b': 2, 'c': 3}\n",
    "```\n",
    "\n",
    "---\n",
    "\n",
    "### 9. `fromkeys(iterable, value=None)`\n",
    "\n",
    "Membuat dictionary baru dari list key dengan nilai default.\n",
    "\n",
    "```python\n",
    "keys = ['x', 'y', 'z']\n",
    "d = dict.fromkeys(keys, 0)\n",
    "print(d)  # {'x': 0, 'y': 0, 'z': 0}\n",
    "```\n",
    "\n",
    "---\n",
    "\n",
    "## 🔚 Kesimpulan\n",
    "\n",
    "### Gunakan ketika:\n",
    "\n",
    "* `get()`: ambil data dengan aman\n",
    "* `setdefault()`: inisialisasi key kalau belum ada\n",
    "* `update()`: menggabungkan dict\n",
    "* `pop() / popitem()`: menghapus data\n",
    "* `fromkeys()`: membuat dict cepat dari list\n",
    "\n",
    "Kalau kamu butuh **contoh penerapan dalam kasus nyata** (misal pengelompokan data, input data siswa, dll), tinggal bilang aja ya!\n"
   ]
  },
  {
   "cell_type": "code",
   "execution_count": 27,
   "id": "23a9e2a8",
   "metadata": {},
   "outputs": [
    {
     "name": "stdout",
     "output_type": "stream",
     "text": [
      "{'a': 10, 'b': 20, 'c': 30}\n",
      "{}\n"
     ]
    }
   ],
   "source": [
    "# fungsi untuk mengosongkan dict\n",
    "d = {'a': 10, 'b': 20, 'c': 30}\n",
    "print(d)\n",
    "\n",
    "\n",
    "d.clear()\n",
    "print(d)"
   ]
  },
  {
   "cell_type": "markdown",
   "id": "a24a068c",
   "metadata": {},
   "source": [
    "d.get(<key>[, <default>])\n",
    "\n",
    "Metode .get() dict Python menyediakan cara mudah untuk mendapatkan nilai kunci dari dict tanpa memeriksa terlebih dahulu apakah kunci itu ada, dan tanpa memunculkan kesalahan.\n",
    "\n",
    "d.get(<key>) mencari dict d untuk <key> dan mengembalikan nilai terkait jika ditemukan. Jika <key> tidak ditemukan, ia mengembalikan None"
   ]
  },
  {
   "cell_type": "code",
   "execution_count": 28,
   "id": "062bf208",
   "metadata": {},
   "outputs": [
    {
     "name": "stdout",
     "output_type": "stream",
     "text": [
      "20\n",
      "None\n"
     ]
    }
   ],
   "source": [
    "d = {'a': 10, 'b': 20, 'c': 30}\n",
    "\n",
    "print(d.get('b'))\n",
    "\n",
    "print(d.get('z'))\n"
   ]
  },
  {
   "cell_type": "markdown",
   "id": "64309a80",
   "metadata": {},
   "source": [
    "d.items() mengembalikan daftar tupel yang berisi pasangan nilai kunci di d. Item pertama di setiap tuple adalah kuncinya, dan item kedua adalah nilai kuncinya"
   ]
  },
  {
   "cell_type": "code",
   "execution_count": 29,
   "id": "3e8a9256",
   "metadata": {},
   "outputs": [
    {
     "data": {
      "text/plain": [
       "20"
      ]
     },
     "execution_count": 29,
     "metadata": {},
     "output_type": "execute_result"
    }
   ],
   "source": [
    "d = {'a': 10, 'b': 20, 'c': 30}\n",
    "d\n",
    "\n",
    "\n",
    "list(d.items())\n",
    "\n",
    "list(d.items())[1][0]\n",
    "\n",
    "list(d.items())[1][1]\n"
   ]
  },
  {
   "cell_type": "markdown",
   "id": "bf0a92f6",
   "metadata": {},
   "source": [
    "d.keys() mengembalikan daftar semua kunci di d"
   ]
  },
  {
   "cell_type": "code",
   "execution_count": 30,
   "id": "5f765254",
   "metadata": {},
   "outputs": [
    {
     "data": {
      "text/plain": [
       "['a', 'b', 'c']"
      ]
     },
     "execution_count": 30,
     "metadata": {},
     "output_type": "execute_result"
    }
   ],
   "source": [
    "d = {'a': 10, 'b': 20, 'c': 30}\n",
    "d\n",
    "\n",
    "\n",
    "list(d.keys())\n"
   ]
  },
  {
   "cell_type": "markdown",
   "id": "f9795302",
   "metadata": {},
   "source": [
    "d.update()"
   ]
  },
  {
   "cell_type": "code",
   "execution_count": 31,
   "id": "3f1b43f7",
   "metadata": {},
   "outputs": [
    {
     "data": {
      "text/plain": [
       "{'a': 10, 'b': 200, 'c': 30, 'd': 400}"
      ]
     },
     "execution_count": 31,
     "metadata": {},
     "output_type": "execute_result"
    }
   ],
   "source": [
    "d1 = {'a': 10, 'b': 20, 'c': 30}\n",
    "d2 = {'b': 200, 'd': 400}\n",
    "\n",
    "d1.update(d2)\n",
    "d1"
   ]
  },
  {
   "cell_type": "markdown",
   "id": "65c831a0",
   "metadata": {},
   "source": [
    "d.pop()"
   ]
  },
  {
   "cell_type": "code",
   "execution_count": 32,
   "id": "8faabe72",
   "metadata": {},
   "outputs": [
    {
     "data": {
      "text/plain": [
       "{'a': 10, 'c': 30}"
      ]
     },
     "execution_count": 32,
     "metadata": {},
     "output_type": "execute_result"
    }
   ],
   "source": [
    "d = {'a': 10, 'b': 20, 'c': 30}\n",
    "\n",
    "d.pop('b')\n",
    "\n",
    "d"
   ]
  },
  {
   "cell_type": "markdown",
   "id": "4660c4f1",
   "metadata": {},
   "source": [
    "d.popitem()"
   ]
  },
  {
   "cell_type": "code",
   "execution_count": 33,
   "id": "ea1b977b",
   "metadata": {},
   "outputs": [
    {
     "name": "stdout",
     "output_type": "stream",
     "text": [
      "{'a': 10, 'b': 20}\n",
      "{'a': 10}\n"
     ]
    }
   ],
   "source": [
    "d = {'a': 10, 'b': 20, 'c': 30}\n",
    "\n",
    "d.popitem()\n",
    "\n",
    "print(d)\n",
    "\n",
    "\n",
    "d.popitem()\n",
    "\n",
    "print(d)"
   ]
  }
 ],
 "metadata": {
  "kernelspec": {
   "display_name": "base",
   "language": "python",
   "name": "python3"
  },
  "language_info": {
   "codemirror_mode": {
    "name": "ipython",
    "version": 3
   },
   "file_extension": ".py",
   "mimetype": "text/x-python",
   "name": "python",
   "nbconvert_exporter": "python",
   "pygments_lexer": "ipython3",
   "version": "3.12.4"
  }
 },
 "nbformat": 4,
 "nbformat_minor": 5
}
